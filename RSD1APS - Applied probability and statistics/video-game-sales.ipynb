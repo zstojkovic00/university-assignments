{
 "cells": [
  {
   "cell_type": "markdown",
   "id": "d7ce7b26-1615-47b5-b1b3-bd2af8db1d85",
   "metadata": {
    "id": "d7ce7b26-1615-47b5-b1b3-bd2af8db1d85"
   },
   "source": [
    "# Applied Probability and Statistics - Zeljko Stojkovic 2021230319"
   ]
  },
  {
   "cell_type": "markdown",
   "id": "337ffffb-af1a-46d3-a8bd-745c10a2edb7",
   "metadata": {
    "id": "337ffffb-af1a-46d3-a8bd-745c10a2edb7"
   },
   "source": [
    "## Dataset:\n",
    "The project is centered around the \"Video Game Sales\" dataset, this dataset contains a list of video games with sales greater than 100,000 copies.\n",
    "\n",
    "## Project Objective:\n",
    "The primary goal of this project is to conduct a statistical analysis of the \"Video Game Sales\" dataset. The analysis will employ a variety of statistical methods learned during the course to extract meaningful insights.\n",
    "\n",
    "\n",
    "## Dataset Contents:\n",
    "- Name - The games name\n",
    "- Platform - Platform of the games release (i.e. PC,PS4, etc.)\n",
    "- Year - Year of the game's release\n",
    "- Genre - Genre of the game\n",
    "- Publisher - Publisher of the game\n",
    "- NA_Sales - Sales in North America (in millions)\n",
    "- EU_Sales - Sales in Europe (in millions)\n",
    "- JP_Sales - Sales in Japan (in millions)\n",
    "- Other_Sales - Sales in the rest of the world (in millions)\n",
    "- Global_Sales - Total worldwide sales.\n",
    "- Popularity_Scale - Popularity scale of game (1 - 5)\n",
    "- Rating - Rating of game (1 - 10)"
   ]
  },
  {
   "cell_type": "markdown",
   "id": "081c658f-ac84-44f7-bbb0-0a619fd48e9d",
   "metadata": {
    "id": "081c658f-ac84-44f7-bbb0-0a619fd48e9d"
   },
   "source": [
    "## Exploratory Data Analysis (EDA):\n",
    "### Loading the dataset:\n",
    "Before we can start, we must first import the required libraries and modules which will be used for this EDA, as well as import the dataset."
   ]
  },
  {
   "cell_type": "code",
   "execution_count": null,
   "id": "649dbd91-bdfd-4362-ad64-dfcf3d1880e2",
   "metadata": {
    "id": "649dbd91-bdfd-4362-ad64-dfcf3d1880e2"
   },
   "outputs": [],
   "source": [
    "import numpy as np\n",
    "import matplotlib.pyplot as plt\n",
    "import pandas as pd\n",
    "import seaborn as sns\n",
    "from IPython.display import display\n",
    "from scipy import stats\n",
    "import statsmodels.formula.api as sm"
   ]
  },
  {
   "cell_type": "code",
   "execution_count": null,
   "id": "2778eeb3-83bd-4f39-97ee-f38df10a15b6",
   "metadata": {
    "id": "2778eeb3-83bd-4f39-97ee-f38df10a15b6"
   },
   "outputs": [],
   "source": [
    "#Read data\n",
    "df = pd.read_csv('vgsales.csv')"
   ]
  },
  {
   "cell_type": "markdown",
   "id": "95c9e15a-28a5-462b-ab1d-ba87be134882",
   "metadata": {
    "id": "95c9e15a-28a5-462b-ab1d-ba87be134882"
   },
   "source": [
    "## 1. Analyzing the dataset:\n",
    "The next step will be general analysis of the dataset."
   ]
  },
  {
   "cell_type": "code",
   "execution_count": null,
   "id": "08fba995-1392-42e9-aa09-9b9dd8e34a63",
   "metadata": {
    "id": "08fba995-1392-42e9-aa09-9b9dd8e34a63",
    "outputId": "18366299-2b65-450a-925b-6df49ad09b92"
   },
   "outputs": [
    {
     "data": {
      "text/html": [
       "<div>\n",
       "<style scoped>\n",
       "    .dataframe tbody tr th:only-of-type {\n",
       "        vertical-align: middle;\n",
       "    }\n",
       "\n",
       "    .dataframe tbody tr th {\n",
       "        vertical-align: top;\n",
       "    }\n",
       "\n",
       "    .dataframe thead th {\n",
       "        text-align: right;\n",
       "    }\n",
       "</style>\n",
       "<table border=\"1\" class=\"dataframe\">\n",
       "  <thead>\n",
       "    <tr style=\"text-align: right;\">\n",
       "      <th></th>\n",
       "      <th>Rank</th>\n",
       "      <th>Name</th>\n",
       "      <th>Platform</th>\n",
       "      <th>Year</th>\n",
       "      <th>Genre</th>\n",
       "      <th>Publisher</th>\n",
       "      <th>NA_Sales</th>\n",
       "      <th>EU_Sales</th>\n",
       "      <th>JP_Sales</th>\n",
       "      <th>Other_Sales</th>\n",
       "      <th>Global_Sales</th>\n",
       "    </tr>\n",
       "  </thead>\n",
       "  <tbody>\n",
       "    <tr>\n",
       "      <th>0</th>\n",
       "      <td>1</td>\n",
       "      <td>Wii Sports</td>\n",
       "      <td>Wii</td>\n",
       "      <td>2006.0</td>\n",
       "      <td>Sports</td>\n",
       "      <td>Nintendo</td>\n",
       "      <td>41.49</td>\n",
       "      <td>29.02</td>\n",
       "      <td>3.77</td>\n",
       "      <td>8.46</td>\n",
       "      <td>82.74</td>\n",
       "    </tr>\n",
       "    <tr>\n",
       "      <th>1</th>\n",
       "      <td>2</td>\n",
       "      <td>Super Mario Bros.</td>\n",
       "      <td>NES</td>\n",
       "      <td>1985.0</td>\n",
       "      <td>Platform</td>\n",
       "      <td>Nintendo</td>\n",
       "      <td>29.08</td>\n",
       "      <td>3.58</td>\n",
       "      <td>6.81</td>\n",
       "      <td>0.77</td>\n",
       "      <td>40.24</td>\n",
       "    </tr>\n",
       "    <tr>\n",
       "      <th>2</th>\n",
       "      <td>3</td>\n",
       "      <td>Mario Kart Wii</td>\n",
       "      <td>Wii</td>\n",
       "      <td>2008.0</td>\n",
       "      <td>Racing</td>\n",
       "      <td>Nintendo</td>\n",
       "      <td>15.85</td>\n",
       "      <td>12.88</td>\n",
       "      <td>3.79</td>\n",
       "      <td>3.31</td>\n",
       "      <td>35.82</td>\n",
       "    </tr>\n",
       "    <tr>\n",
       "      <th>3</th>\n",
       "      <td>4</td>\n",
       "      <td>Wii Sports Resort</td>\n",
       "      <td>Wii</td>\n",
       "      <td>2009.0</td>\n",
       "      <td>Sports</td>\n",
       "      <td>Nintendo</td>\n",
       "      <td>15.75</td>\n",
       "      <td>11.01</td>\n",
       "      <td>3.28</td>\n",
       "      <td>2.96</td>\n",
       "      <td>33.00</td>\n",
       "    </tr>\n",
       "    <tr>\n",
       "      <th>4</th>\n",
       "      <td>5</td>\n",
       "      <td>Pokemon Red/Pokemon Blue</td>\n",
       "      <td>GB</td>\n",
       "      <td>1996.0</td>\n",
       "      <td>Role-Playing</td>\n",
       "      <td>Nintendo</td>\n",
       "      <td>11.27</td>\n",
       "      <td>8.89</td>\n",
       "      <td>10.22</td>\n",
       "      <td>1.00</td>\n",
       "      <td>31.37</td>\n",
       "    </tr>\n",
       "  </tbody>\n",
       "</table>\n",
       "</div>"
      ],
      "text/plain": [
       "   Rank                      Name Platform    Year         Genre Publisher  \\\n",
       "0     1                Wii Sports      Wii  2006.0        Sports  Nintendo   \n",
       "1     2         Super Mario Bros.      NES  1985.0      Platform  Nintendo   \n",
       "2     3            Mario Kart Wii      Wii  2008.0        Racing  Nintendo   \n",
       "3     4         Wii Sports Resort      Wii  2009.0        Sports  Nintendo   \n",
       "4     5  Pokemon Red/Pokemon Blue       GB  1996.0  Role-Playing  Nintendo   \n",
       "\n",
       "   NA_Sales  EU_Sales  JP_Sales  Other_Sales  Global_Sales  \n",
       "0     41.49     29.02      3.77         8.46         82.74  \n",
       "1     29.08      3.58      6.81         0.77         40.24  \n",
       "2     15.85     12.88      3.79         3.31         35.82  \n",
       "3     15.75     11.01      3.28         2.96         33.00  \n",
       "4     11.27      8.89     10.22         1.00         31.37  "
      ]
     },
     "execution_count": 38,
     "metadata": {},
     "output_type": "execute_result"
    }
   ],
   "source": [
    "df.head()"
   ]
  },
  {
   "cell_type": "code",
   "execution_count": null,
   "id": "f44af6ff-3a68-421f-aab2-994782d8a5e0",
   "metadata": {
    "id": "f44af6ff-3a68-421f-aab2-994782d8a5e0",
    "outputId": "0f15cc8c-a0d3-430c-fbe2-a46679d6856c"
   },
   "outputs": [
    {
     "data": {
      "text/plain": [
       "(16598, 11)"
      ]
     },
     "execution_count": 39,
     "metadata": {},
     "output_type": "execute_result"
    }
   ],
   "source": [
    "# Numbers of rows and columns in the dataset\n",
    "df.shape"
   ]
  },
  {
   "cell_type": "code",
   "execution_count": null,
   "id": "230a1865-874e-4f3a-85f0-582d18f572df",
   "metadata": {
    "id": "230a1865-874e-4f3a-85f0-582d18f572df",
    "outputId": "5c6c725f-279f-4c00-ab81-fcd819db8ffb"
   },
   "outputs": [
    {
     "data": {
      "text/plain": [
       "Index(['Rank', 'Name', 'Platform', 'Year', 'Genre', 'Publisher', 'NA_Sales',\n",
       "       'EU_Sales', 'JP_Sales', 'Other_Sales', 'Global_Sales'],\n",
       "      dtype='object')"
      ]
     },
     "execution_count": 40,
     "metadata": {},
     "output_type": "execute_result"
    }
   ],
   "source": [
    "# Name of columns\n",
    "df.columns"
   ]
  },
  {
   "cell_type": "code",
   "execution_count": null,
   "id": "1f03204b-69c3-4c6b-aaec-3612320747e7",
   "metadata": {
    "id": "1f03204b-69c3-4c6b-aaec-3612320747e7",
    "outputId": "52d43c01-8893-47a2-fa5c-4c1a2e89cbe8"
   },
   "outputs": [
    {
     "name": "stdout",
     "output_type": "stream",
     "text": [
      "<class 'pandas.core.frame.DataFrame'>\n",
      "RangeIndex: 16598 entries, 0 to 16597\n",
      "Data columns (total 11 columns):\n",
      " #   Column        Non-Null Count  Dtype  \n",
      "---  ------        --------------  -----  \n",
      " 0   Rank          16598 non-null  int64  \n",
      " 1   Name          16598 non-null  object \n",
      " 2   Platform      16598 non-null  object \n",
      " 3   Year          16327 non-null  float64\n",
      " 4   Genre         16598 non-null  object \n",
      " 5   Publisher     16540 non-null  object \n",
      " 6   NA_Sales      16598 non-null  float64\n",
      " 7   EU_Sales      16598 non-null  float64\n",
      " 8   JP_Sales      16598 non-null  float64\n",
      " 9   Other_Sales   16598 non-null  float64\n",
      " 10  Global_Sales  16598 non-null  float64\n",
      "dtypes: float64(6), int64(1), object(4)\n",
      "memory usage: 1.4+ MB\n"
     ]
    }
   ],
   "source": [
    "# Detailed information of dataset\n",
    "df.info()"
   ]
  },
  {
   "cell_type": "code",
   "execution_count": null,
   "id": "11bb3e19-5bbb-4701-9068-13934aeb7d6e",
   "metadata": {
    "id": "11bb3e19-5bbb-4701-9068-13934aeb7d6e",
    "outputId": "79b27eab-8ff7-4856-b73b-addaf8caa585"
   },
   "outputs": [
    {
     "data": {
      "text/plain": [
       "Rank              0\n",
       "Name              0\n",
       "Platform          0\n",
       "Year            271\n",
       "Genre             0\n",
       "Publisher        58\n",
       "NA_Sales          0\n",
       "EU_Sales          0\n",
       "JP_Sales          0\n",
       "Other_Sales       0\n",
       "Global_Sales      0\n",
       "dtype: int64"
      ]
     },
     "execution_count": 42,
     "metadata": {},
     "output_type": "execute_result"
    }
   ],
   "source": [
    "# Check if there are any null values\n",
    "df.isnull().sum()"
   ]
  },
  {
   "cell_type": "code",
   "execution_count": null,
   "id": "922a459d-7c2a-4b6e-baee-48f174c1e08d",
   "metadata": {
    "id": "922a459d-7c2a-4b6e-baee-48f174c1e08d",
    "outputId": "fcfdb434-49af-4a74-d5f4-a5f645a701f6"
   },
   "outputs": [
    {
     "data": {
      "text/plain": [
       "Rank            16598\n",
       "Name            11493\n",
       "Platform           31\n",
       "Year               39\n",
       "Genre              12\n",
       "Publisher         578\n",
       "NA_Sales          409\n",
       "EU_Sales          305\n",
       "JP_Sales          244\n",
       "Other_Sales       157\n",
       "Global_Sales      623\n",
       "dtype: int64"
      ]
     },
     "execution_count": 43,
     "metadata": {},
     "output_type": "execute_result"
    }
   ],
   "source": [
    "# Print out the number of unique values in each column\n",
    "df.nunique()"
   ]
  },
  {
   "cell_type": "markdown",
   "id": "b02b087b-7bcc-43b1-8bff-9b790ae103fc",
   "metadata": {
    "id": "b02b087b-7bcc-43b1-8bff-9b790ae103fc"
   },
   "source": [
    "### 1.1. Data Cleaning\n",
    "In the data cleaning phase we've observed a few important issues that require to be fixed. Specifically, missing values were observed in the 'Year' and 'Publisher' columns. It was decided to fill in the missing values in the 'Year' column with the mean year value. As 'Publisher' is a text column, the dicision was made to drop it from the dataset."
   ]
  },
  {
   "cell_type": "code",
   "execution_count": null,
   "id": "e93b5d80-c5ac-431d-8cc5-0e20f33b686f",
   "metadata": {
    "id": "e93b5d80-c5ac-431d-8cc5-0e20f33b686f"
   },
   "outputs": [],
   "source": [
    "# Fill null values with year mean value\n",
    "df['Year'] = df['Year'].fillna(df['Year'].mean())"
   ]
  },
  {
   "cell_type": "code",
   "execution_count": null,
   "id": "f5e1c842-4a2b-4e6a-8815-61af90e59a46",
   "metadata": {
    "id": "f5e1c842-4a2b-4e6a-8815-61af90e59a46",
    "outputId": "3ba68e32-6146-4bd5-cb2a-d42e966a8680"
   },
   "outputs": [
    {
     "data": {
      "text/plain": [
       "Rank             0\n",
       "Name             0\n",
       "Platform         0\n",
       "Year             0\n",
       "Genre            0\n",
       "Publisher       58\n",
       "NA_Sales         0\n",
       "EU_Sales         0\n",
       "JP_Sales         0\n",
       "Other_Sales      0\n",
       "Global_Sales     0\n",
       "dtype: int64"
      ]
     },
     "execution_count": 45,
     "metadata": {},
     "output_type": "execute_result"
    }
   ],
   "source": [
    "df.isnull().sum()"
   ]
  },
  {
   "cell_type": "code",
   "execution_count": null,
   "id": "9610194b-6128-4b23-8660-5bf64b0f2605",
   "metadata": {
    "id": "9610194b-6128-4b23-8660-5bf64b0f2605"
   },
   "outputs": [],
   "source": [
    "df = df.dropna(axis=0)"
   ]
  },
  {
   "cell_type": "code",
   "execution_count": null,
   "id": "28b845c4-ab72-4468-b817-3375031daed0",
   "metadata": {
    "id": "28b845c4-ab72-4468-b817-3375031daed0",
    "outputId": "447b946f-ea81-411d-b4c3-5431fbcb0942"
   },
   "outputs": [
    {
     "data": {
      "text/plain": [
       "Rank            0\n",
       "Name            0\n",
       "Platform        0\n",
       "Year            0\n",
       "Genre           0\n",
       "Publisher       0\n",
       "NA_Sales        0\n",
       "EU_Sales        0\n",
       "JP_Sales        0\n",
       "Other_Sales     0\n",
       "Global_Sales    0\n",
       "dtype: int64"
      ]
     },
     "execution_count": 47,
     "metadata": {},
     "output_type": "execute_result"
    }
   ],
   "source": [
    "# Remove rows with remaining missing values\n",
    "df.isnull().sum()"
   ]
  },
  {
   "cell_type": "code",
   "execution_count": null,
   "id": "e23d9e15-3a50-4a55-af6c-88dd15ba7ec6",
   "metadata": {
    "id": "e23d9e15-3a50-4a55-af6c-88dd15ba7ec6",
    "outputId": "35d7c88c-151f-4378-e728-c0df40bceadd"
   },
   "outputs": [
    {
     "data": {
      "text/html": [
       "<div>\n",
       "<style scoped>\n",
       "    .dataframe tbody tr th:only-of-type {\n",
       "        vertical-align: middle;\n",
       "    }\n",
       "\n",
       "    .dataframe tbody tr th {\n",
       "        vertical-align: top;\n",
       "    }\n",
       "\n",
       "    .dataframe thead th {\n",
       "        text-align: right;\n",
       "    }\n",
       "</style>\n",
       "<table border=\"1\" class=\"dataframe\">\n",
       "  <thead>\n",
       "    <tr style=\"text-align: right;\">\n",
       "      <th></th>\n",
       "      <th>Name</th>\n",
       "      <th>Global_Sales</th>\n",
       "      <th>Popularity_Scale</th>\n",
       "    </tr>\n",
       "  </thead>\n",
       "  <tbody>\n",
       "    <tr>\n",
       "      <th>0</th>\n",
       "      <td>Wii Sports</td>\n",
       "      <td>82.74</td>\n",
       "      <td>5</td>\n",
       "    </tr>\n",
       "    <tr>\n",
       "      <th>1</th>\n",
       "      <td>Super Mario Bros.</td>\n",
       "      <td>40.24</td>\n",
       "      <td>5</td>\n",
       "    </tr>\n",
       "    <tr>\n",
       "      <th>2</th>\n",
       "      <td>Mario Kart Wii</td>\n",
       "      <td>35.82</td>\n",
       "      <td>5</td>\n",
       "    </tr>\n",
       "    <tr>\n",
       "      <th>3</th>\n",
       "      <td>Wii Sports Resort</td>\n",
       "      <td>33.00</td>\n",
       "      <td>5</td>\n",
       "    </tr>\n",
       "    <tr>\n",
       "      <th>4</th>\n",
       "      <td>Pokemon Red/Pokemon Blue</td>\n",
       "      <td>31.37</td>\n",
       "      <td>5</td>\n",
       "    </tr>\n",
       "    <tr>\n",
       "      <th>...</th>\n",
       "      <td>...</td>\n",
       "      <td>...</td>\n",
       "      <td>...</td>\n",
       "    </tr>\n",
       "    <tr>\n",
       "      <th>14034</th>\n",
       "      <td>J-League Pro Striker 2</td>\n",
       "      <td>0.04</td>\n",
       "      <td>1</td>\n",
       "    </tr>\n",
       "    <tr>\n",
       "      <th>14035</th>\n",
       "      <td>Obscure</td>\n",
       "      <td>0.04</td>\n",
       "      <td>1</td>\n",
       "    </tr>\n",
       "    <tr>\n",
       "      <th>14036</th>\n",
       "      <td>Caesar III</td>\n",
       "      <td>0.04</td>\n",
       "      <td>1</td>\n",
       "    </tr>\n",
       "    <tr>\n",
       "      <th>14037</th>\n",
       "      <td>Super Robot Taisen: Scramble Commander the 2nd</td>\n",
       "      <td>0.04</td>\n",
       "      <td>1</td>\n",
       "    </tr>\n",
       "    <tr>\n",
       "      <th>14038</th>\n",
       "      <td>Mahjong Taikai</td>\n",
       "      <td>0.04</td>\n",
       "      <td>1</td>\n",
       "    </tr>\n",
       "  </tbody>\n",
       "</table>\n",
       "<p>14000 rows × 3 columns</p>\n",
       "</div>"
      ],
      "text/plain": [
       "                                                 Name  Global_Sales  \\\n",
       "0                                          Wii Sports         82.74   \n",
       "1                                   Super Mario Bros.         40.24   \n",
       "2                                      Mario Kart Wii         35.82   \n",
       "3                                   Wii Sports Resort         33.00   \n",
       "4                            Pokemon Red/Pokemon Blue         31.37   \n",
       "...                                               ...           ...   \n",
       "14034                          J-League Pro Striker 2          0.04   \n",
       "14035                                         Obscure          0.04   \n",
       "14036                                      Caesar III          0.04   \n",
       "14037  Super Robot Taisen: Scramble Commander the 2nd          0.04   \n",
       "14038                                  Mahjong Taikai          0.04   \n",
       "\n",
       "      Popularity_Scale  \n",
       "0                    5  \n",
       "1                    5  \n",
       "2                    5  \n",
       "3                    5  \n",
       "4                    5  \n",
       "...                ...  \n",
       "14034                1  \n",
       "14035                1  \n",
       "14036                1  \n",
       "14037                1  \n",
       "14038                1  \n",
       "\n",
       "[14000 rows x 3 columns]"
      ]
     },
     "execution_count": 48,
     "metadata": {},
     "output_type": "execute_result"
    }
   ],
   "source": [
    "thresholds = [0, 0.1, 0.2, 0.5, 1.0, float('inf')]\n",
    "\n",
    "df['Popularity_Scale'] = pd.cut(df['Global_Sales'], bins=thresholds, labels=[1, 2, 3, 4, 5], include_lowest=True)\n",
    "\n",
    "df[['Name', 'Global_Sales', 'Popularity_Scale']].head(14000)"
   ]
  },
  {
   "cell_type": "code",
   "execution_count": null,
   "id": "317a086d-07d9-44d3-95b3-b5fadb4b7874",
   "metadata": {
    "id": "317a086d-07d9-44d3-95b3-b5fadb4b7874",
    "outputId": "ab4c866a-3078-4522-ed9d-8f1688136e1d"
   },
   "outputs": [
    {
     "name": "stdout",
     "output_type": "stream",
     "text": [
      "Popularity_Scale\n",
      "1    6154\n",
      "3    3535\n",
      "2    2911\n",
      "5    2051\n",
      "4    1889\n",
      "Name: count, dtype: int64\n"
     ]
    }
   ],
   "source": [
    "popularity_counts = df['Popularity_Scale'].value_counts()\n",
    "print(popularity_counts)"
   ]
  },
  {
   "cell_type": "code",
   "execution_count": null,
   "id": "f7339329-90ed-4232-a0b7-eaeccc671337",
   "metadata": {
    "id": "f7339329-90ed-4232-a0b7-eaeccc671337",
    "outputId": "708c6835-c04c-4932-c7f9-f2a46b63f6ca"
   },
   "outputs": [
    {
     "name": "stdout",
     "output_type": "stream",
     "text": [
      "                       Name  Global_Sales Popularity_Scale  Rating\n",
      "0                Wii Sports         82.74                5       5\n",
      "1         Super Mario Bros.         40.24                5       4\n",
      "2            Mario Kart Wii         35.82                5       9\n",
      "3         Wii Sports Resort         33.00                5       8\n",
      "4  Pokemon Red/Pokemon Blue         31.37                5       6\n"
     ]
    }
   ],
   "source": [
    "df['Rating'] = np.random.randint(1, 11, size=len(df))\n",
    "\n",
    "print(df[['Name', 'Global_Sales', 'Popularity_Scale', 'Rating']].head())"
   ]
  },
  {
   "cell_type": "markdown",
   "id": "b018be6f-1c33-4235-a704-424baa1a6b74",
   "metadata": {
    "id": "b018be6f-1c33-4235-a704-424baa1a6b74"
   },
   "source": [
    "## 2. Probability and Statistics"
   ]
  },
  {
   "cell_type": "markdown",
   "id": "5851c38c-3ed2-4e4f-8495-d4f871584fa0",
   "metadata": {
    "id": "5851c38c-3ed2-4e4f-8495-d4f871584fa0"
   },
   "source": [
    "### 2.1. Estimation of the unconditional and conditional probabilities\n",
    "#### Unconditional Probability\n",
    "Unconditional probability is the probability of an event ocurring without any other events being taken into account it is calculated by dividing the number of times the event occurs by the total number of times the event can occur\n",
    "$$\n",
    "\\mathbf{P(A) = \\frac{N(A)}{N}}\n",
    "$$\n"
   ]
  },
  {
   "cell_type": "code",
   "execution_count": null,
   "id": "c550cf66-be19-4473-87b1-30bf47fcfda5",
   "metadata": {
    "id": "c550cf66-be19-4473-87b1-30bf47fcfda5",
    "outputId": "bebbce9b-99c9-4c54-a0ec-5c3fe30af930"
   },
   "outputs": [
    {
     "data": {
      "text/plain": [
       "<Axes: title={'center': 'Video Genre'}, xlabel='Genre', ylabel='Probability'>"
      ]
     },
     "execution_count": 51,
     "metadata": {},
     "output_type": "execute_result"
    },
    {
     "data": {
      "image/png": "[encoded data removed]",
      "text/plain": [
       "<Figure size 640x480 with 1 Axes>"
      ]
     },
     "metadata": {},
     "output_type": "display_data"
    }
   ],
   "source": [
    "# Calculate the probability of picking a random game from each genre\n",
    "# by dividing the count of each genre by the total number of games in the dataset.\n",
    "genre = df['Genre'].value_counts() / df['Genre'].count()\n",
    "\n",
    "# Sort\n",
    "genre.sort_index(inplace=True)\n",
    "\n",
    "# Plot bar\n",
    "genre.plot(kind='bar', title='Video Genre', xlabel='Genre', ylabel='Probability')"
   ]
  },
  {
   "cell_type": "markdown",
   "id": "334ea585-934b-4cf3-bef0-84841c625018",
   "metadata": {
    "id": "334ea585-934b-4cf3-bef0-84841c625018"
   },
   "source": [
    "#### Conditional Probability\n",
    "Conditional probability is the probability of an event occurring given that another event has already occurred. It is calculated by dividing the number of times both event occurs by the number of times the other event occurs.\n",
    "$$\n",
    "\\mathbf{P(A|B) = \\frac{P(A∩B)}{P(B)}}\n",
    "$$"
   ]
  },
  {
   "cell_type": "code",
   "execution_count": null,
   "id": "97996c49-4d37-4a1b-a692-0743d86b0771",
   "metadata": {
    "id": "97996c49-4d37-4a1b-a692-0743d86b0771",
    "outputId": "b82ef7b1-af91-471d-cbe8-463fc5ec6281"
   },
   "outputs": [
    {
     "name": "stdout",
     "output_type": "stream",
     "text": [
      "The probability that a game from high popularity grade will have a high rate is 0.62.\n"
     ]
    }
   ],
   "source": [
    "# Calculate conditional probability that a game which have high popularity will have high rate\n",
    "\n",
    "#Create a subset of data with games with high popularity grade (4,5)\n",
    "#B\n",
    "game_popularity = df[df['Popularity_Scale'] > 3]\n",
    "#P(A|B)\n",
    "game_popularity_rate = sum(game_popularity['Rating'] >= 5) / len(game_popularity)\n",
    "\n",
    "print(f\"The probability that a game from high popularity grade will have a high rate is {game_popularity_rate:.2f}.\")"
   ]
  },
  {
   "cell_type": "code",
   "execution_count": null,
   "id": "ae5d8faa-07e5-4511-ac01-ad7374f156ec",
   "metadata": {
    "id": "ae5d8faa-07e5-4511-ac01-ad7374f156ec",
    "outputId": "ccaf0305-9f10-4221-c2c3-eb07e644ae42"
   },
   "outputs": [
    {
     "name": "stdout",
     "output_type": "stream",
     "text": [
      "The probability that a game which have high rate will be popular is 0.24.\n"
     ]
    }
   ],
   "source": [
    "# Check conditional probability that a game which have high rate will have high popularity\n",
    "#B\n",
    "game_rate = df[df['Rating'] > 5]\n",
    "#P(A|B)\n",
    "game_rate_popularity = sum(game_rate['Popularity_Scale'] >3) / len(game_rate)\n",
    "print(f\"The probability that a game which have high rate will be popular is {game_rate_popularity:.2f}.\")"
   ]
  },
  {
   "cell_type": "markdown",
   "id": "604e8fb8-31fb-407e-9eef-cc905d46b79b",
   "metadata": {
    "id": "604e8fb8-31fb-407e-9eef-cc905d46b79b"
   },
   "source": [
    "#### Note:\n",
    "Among popular games, there's a tendency for them to have higher ratings compared to tendency for high-rated games to be popular.\n",
    "In other words, within the subst of popular games, there is a higher likelihood of finding games with high ratings."
   ]
  },
  {
   "cell_type": "markdown",
   "id": "6c3ec7e2-28d4-44bc-b459-ee1f1d875d40",
   "metadata": {
    "id": "6c3ec7e2-28d4-44bc-b459-ee1f1d875d40"
   },
   "source": [
    "###  2.2. Estimation of the parameters of distributions of single variables (mathematical expectation, variance, standard deviation, median, quartiles, quantiles,...)"
   ]
  },
  {
   "cell_type": "markdown",
   "id": "62fb504c-893b-4c04-9b86-03e7468f1f6a",
   "metadata": {
    "id": "62fb504c-893b-4c04-9b86-03e7468f1f6a"
   },
   "source": [
    "#### Mathematical Expectation\n",
    "Mathematical expectation is the average value of a random variable. It is calculated by multiplying the value of the random variable by the probability of that value occurring and then summing all the values.\n",
    "\n",
    "$$\n",
    "\\large\\mathbf{E[X] = \\sum_{i=1}^{n} x_i P(X = x_i)}\n",
    "$$\n"
   ]
  },
  {
   "cell_type": "code",
   "execution_count": null,
   "id": "6b730203-a64b-438a-97d6-913e0db803e4",
   "metadata": {
    "id": "6b730203-a64b-438a-97d6-913e0db803e4"
   },
   "outputs": [],
   "source": [
    "# Continuous values\n",
    "columns = ['NA_Sales', 'EU_Sales', 'JP_Sales', 'Other_Sales', 'Global_Sales']"
   ]
  },
  {
   "cell_type": "code",
   "execution_count": null,
   "id": "24c9b684-3ac5-42b8-8862-3717fab90960",
   "metadata": {
    "id": "24c9b684-3ac5-42b8-8862-3717fab90960",
    "outputId": "66cb1e6e-db99-4a32-820f-b539f3557796"
   },
   "outputs": [
    {
     "data": {
      "text/html": [
       "<div>\n",
       "<style scoped>\n",
       "    .dataframe tbody tr th:only-of-type {\n",
       "        vertical-align: middle;\n",
       "    }\n",
       "\n",
       "    .dataframe tbody tr th {\n",
       "        vertical-align: top;\n",
       "    }\n",
       "\n",
       "    .dataframe thead th {\n",
       "        text-align: right;\n",
       "    }\n",
       "</style>\n",
       "<table border=\"1\" class=\"dataframe\">\n",
       "  <thead>\n",
       "    <tr style=\"text-align: right;\">\n",
       "      <th></th>\n",
       "      <th>Sales Region</th>\n",
       "      <th>Mean Sales</th>\n",
       "    </tr>\n",
       "  </thead>\n",
       "  <tbody>\n",
       "    <tr>\n",
       "      <th>0</th>\n",
       "      <td>NA_Sales</td>\n",
       "      <td>0.265079</td>\n",
       "    </tr>\n",
       "    <tr>\n",
       "      <th>1</th>\n",
       "      <td>EU_Sales</td>\n",
       "      <td>0.146883</td>\n",
       "    </tr>\n",
       "    <tr>\n",
       "      <th>2</th>\n",
       "      <td>JP_Sales</td>\n",
       "      <td>0.077998</td>\n",
       "    </tr>\n",
       "    <tr>\n",
       "      <th>3</th>\n",
       "      <td>Other_Sales</td>\n",
       "      <td>0.048191</td>\n",
       "    </tr>\n",
       "    <tr>\n",
       "      <th>4</th>\n",
       "      <td>Global_Sales</td>\n",
       "      <td>0.538426</td>\n",
       "    </tr>\n",
       "  </tbody>\n",
       "</table>\n",
       "</div>"
      ],
      "text/plain": [
       "   Sales Region  Mean Sales\n",
       "0      NA_Sales    0.265079\n",
       "1      EU_Sales    0.146883\n",
       "2      JP_Sales    0.077998\n",
       "3   Other_Sales    0.048191\n",
       "4  Global_Sales    0.538426"
      ]
     },
     "metadata": {},
     "output_type": "display_data"
    }
   ],
   "source": [
    "mean_values = df[columns].mean()\n",
    "mean_table = pd.DataFrame({'Sales Region': mean_values.index, 'Mean Sales': mean_values.values})\n",
    "\n",
    "display(mean_table)"
   ]
  },
  {
   "cell_type": "markdown",
   "id": "7285729f-9166-443d-9c23-4a91c52c2810",
   "metadata": {
    "id": "7285729f-9166-443d-9c23-4a91c52c2810"
   },
   "source": [
    "#### Variance\n",
    "\n",
    "Variance is the average of the squared differences from the mean. It is calculated by subtracting the mean from each value, squaring the result and then dividing the sum of the squared differences by the number of values.\n",
    "\n",
    "$$\n",
    "\\large\\mathbf{Var(X) = \\sum_{i=1}^{n}(x_i - E(X))^2P(X = x_i)}\n",
    "$$"
   ]
  },
  {
   "cell_type": "code",
   "execution_count": null,
   "id": "e5087d19-d9d6-4cb1-a50e-2e840609767f",
   "metadata": {
    "id": "e5087d19-d9d6-4cb1-a50e-2e840609767f",
    "outputId": "fe8c46b5-1df8-4731-ca2f-8bd634688f50"
   },
   "outputs": [
    {
     "data": {
      "text/html": [
       "<div>\n",
       "<style scoped>\n",
       "    .dataframe tbody tr th:only-of-type {\n",
       "        vertical-align: middle;\n",
       "    }\n",
       "\n",
       "    .dataframe tbody tr th {\n",
       "        vertical-align: top;\n",
       "    }\n",
       "\n",
       "    .dataframe thead th {\n",
       "        text-align: right;\n",
       "    }\n",
       "</style>\n",
       "<table border=\"1\" class=\"dataframe\">\n",
       "  <thead>\n",
       "    <tr style=\"text-align: right;\">\n",
       "      <th></th>\n",
       "      <th>Sales Region</th>\n",
       "      <th>Variance Sales</th>\n",
       "    </tr>\n",
       "  </thead>\n",
       "  <tbody>\n",
       "    <tr>\n",
       "      <th>0</th>\n",
       "      <td>NA_Sales</td>\n",
       "      <td>0.669007</td>\n",
       "    </tr>\n",
       "    <tr>\n",
       "      <th>1</th>\n",
       "      <td>EU_Sales</td>\n",
       "      <td>0.256167</td>\n",
       "    </tr>\n",
       "    <tr>\n",
       "      <th>2</th>\n",
       "      <td>JP_Sales</td>\n",
       "      <td>0.095976</td>\n",
       "    </tr>\n",
       "    <tr>\n",
       "      <th>3</th>\n",
       "      <td>Other_Sales</td>\n",
       "      <td>0.035675</td>\n",
       "    </tr>\n",
       "    <tr>\n",
       "      <th>4</th>\n",
       "      <td>Global_Sales</td>\n",
       "      <td>2.425568</td>\n",
       "    </tr>\n",
       "  </tbody>\n",
       "</table>\n",
       "</div>"
      ],
      "text/plain": [
       "   Sales Region  Variance Sales\n",
       "0      NA_Sales        0.669007\n",
       "1      EU_Sales        0.256167\n",
       "2      JP_Sales        0.095976\n",
       "3   Other_Sales        0.035675\n",
       "4  Global_Sales        2.425568"
      ]
     },
     "metadata": {},
     "output_type": "display_data"
    }
   ],
   "source": [
    "variance_values = df[columns].var()\n",
    "variance_table = pd.DataFrame({'Sales Region': variance_values.index, 'Variance Sales': variance_values.values})\n",
    "\n",
    "display(variance_table)"
   ]
  },
  {
   "cell_type": "markdown",
   "id": "8e6af1fc-ca2a-4070-a380-59997905b0aa",
   "metadata": {
    "id": "8e6af1fc-ca2a-4070-a380-59997905b0aa"
   },
   "source": [
    "#### Standard Deviation\n",
    "Standard deviation is a statistical measure that calculate square root of variance, providing a measure of how spread out the valeus are within the dataset. A smaller standard deviation indicates that the values tend to be close to the mean, while a high standard deviation indicates that the values are spread out over a wider range.\n",
    "\n",
    "$$ \\large\\sigma = \\sqrt{Var(X)}$$\n",
    "\n"
   ]
  },
  {
   "cell_type": "code",
   "execution_count": null,
   "id": "610b5770-26e6-4e6a-9509-01ea9eedfa38",
   "metadata": {
    "id": "610b5770-26e6-4e6a-9509-01ea9eedfa38",
    "outputId": "bab8adb2-f648-4680-deaf-9c269f125968"
   },
   "outputs": [
    {
     "data": {
      "text/html": [
       "<div>\n",
       "<style scoped>\n",
       "    .dataframe tbody tr th:only-of-type {\n",
       "        vertical-align: middle;\n",
       "    }\n",
       "\n",
       "    .dataframe tbody tr th {\n",
       "        vertical-align: top;\n",
       "    }\n",
       "\n",
       "    .dataframe thead th {\n",
       "        text-align: right;\n",
       "    }\n",
       "</style>\n",
       "<table border=\"1\" class=\"dataframe\">\n",
       "  <thead>\n",
       "    <tr style=\"text-align: right;\">\n",
       "      <th></th>\n",
       "      <th>Sales Region</th>\n",
       "      <th>Standard Deviation Sales</th>\n",
       "    </tr>\n",
       "  </thead>\n",
       "  <tbody>\n",
       "    <tr>\n",
       "      <th>0</th>\n",
       "      <td>NA_Sales</td>\n",
       "      <td>0.817929</td>\n",
       "    </tr>\n",
       "    <tr>\n",
       "      <th>1</th>\n",
       "      <td>EU_Sales</td>\n",
       "      <td>0.506129</td>\n",
       "    </tr>\n",
       "    <tr>\n",
       "      <th>2</th>\n",
       "      <td>JP_Sales</td>\n",
       "      <td>0.309800</td>\n",
       "    </tr>\n",
       "    <tr>\n",
       "      <th>3</th>\n",
       "      <td>Other_Sales</td>\n",
       "      <td>0.188879</td>\n",
       "    </tr>\n",
       "    <tr>\n",
       "      <th>4</th>\n",
       "      <td>Global_Sales</td>\n",
       "      <td>1.557424</td>\n",
       "    </tr>\n",
       "  </tbody>\n",
       "</table>\n",
       "</div>"
      ],
      "text/plain": [
       "   Sales Region  Standard Deviation Sales\n",
       "0      NA_Sales                  0.817929\n",
       "1      EU_Sales                  0.506129\n",
       "2      JP_Sales                  0.309800\n",
       "3   Other_Sales                  0.188879\n",
       "4  Global_Sales                  1.557424"
      ]
     },
     "metadata": {},
     "output_type": "display_data"
    }
   ],
   "source": [
    "sdeviation_values = df[columns].std()\n",
    "sdeviation_table = pd.DataFrame({'Sales Region': sdeviation_values.index, 'Standard Deviation Sales': sdeviation_values.values})\n",
    "\n",
    "display(sdeviation_table)"
   ]
  },
  {
   "cell_type": "markdown",
   "id": "cd79f437-3ea2-4820-84cd-e452bcad831a",
   "metadata": {
    "id": "cd79f437-3ea2-4820-84cd-e452bcad831a"
   },
   "source": [
    "#### Median\n",
    "Median is the value that separates the major and minior half of a sample, population or probability distribution. In simpler terms, median can be the middle value of a dataset. In the dataset {1,3,3,6,7,8,9} median is 6.\n",
    "\n",
    "$$ \\large{md} = \\begin{cases} x_{\\frac{n-1}{2}}, & \\text{for } n \\text{ odd} \\\\[10pt] \\frac{1}{2} \\left( x_{\\frac{n}{2}} + x_{\\frac{n}{2}+1} \\right), & \\text{for } n \\text{ even} \\end{cases} $$\n",
    "\n"
   ]
  },
  {
   "cell_type": "code",
   "execution_count": null,
   "id": "bca3482d-3858-4b43-8521-50b60aa95db4",
   "metadata": {
    "id": "bca3482d-3858-4b43-8521-50b60aa95db4",
    "outputId": "0949f9f3-0f61-4b13-9e1b-4620054caadb"
   },
   "outputs": [
    {
     "data": {
      "text/html": [
       "<div>\n",
       "<style scoped>\n",
       "    .dataframe tbody tr th:only-of-type {\n",
       "        vertical-align: middle;\n",
       "    }\n",
       "\n",
       "    .dataframe tbody tr th {\n",
       "        vertical-align: top;\n",
       "    }\n",
       "\n",
       "    .dataframe thead th {\n",
       "        text-align: right;\n",
       "    }\n",
       "</style>\n",
       "<table border=\"1\" class=\"dataframe\">\n",
       "  <thead>\n",
       "    <tr style=\"text-align: right;\">\n",
       "      <th></th>\n",
       "      <th>Sales Region</th>\n",
       "      <th>Variance Sales</th>\n",
       "    </tr>\n",
       "  </thead>\n",
       "  <tbody>\n",
       "    <tr>\n",
       "      <th>0</th>\n",
       "      <td>NA_Sales</td>\n",
       "      <td>0.669007</td>\n",
       "    </tr>\n",
       "    <tr>\n",
       "      <th>1</th>\n",
       "      <td>EU_Sales</td>\n",
       "      <td>0.256167</td>\n",
       "    </tr>\n",
       "    <tr>\n",
       "      <th>2</th>\n",
       "      <td>JP_Sales</td>\n",
       "      <td>0.095976</td>\n",
       "    </tr>\n",
       "    <tr>\n",
       "      <th>3</th>\n",
       "      <td>Other_Sales</td>\n",
       "      <td>0.035675</td>\n",
       "    </tr>\n",
       "    <tr>\n",
       "      <th>4</th>\n",
       "      <td>Global_Sales</td>\n",
       "      <td>2.425568</td>\n",
       "    </tr>\n",
       "  </tbody>\n",
       "</table>\n",
       "</div>"
      ],
      "text/plain": [
       "   Sales Region  Variance Sales\n",
       "0      NA_Sales        0.669007\n",
       "1      EU_Sales        0.256167\n",
       "2      JP_Sales        0.095976\n",
       "3   Other_Sales        0.035675\n",
       "4  Global_Sales        2.425568"
      ]
     },
     "metadata": {},
     "output_type": "display_data"
    }
   ],
   "source": [
    "median_values = df[columns].median()\n",
    "median_table = pd.DataFrame({'Sales Region': median_values.index, 'Median Sales': median_values.values})\n",
    "display(variance_table)"
   ]
  },
  {
   "cell_type": "markdown",
   "id": "e85aef2f-f723-4220-ae47-89e5a6bc2bc8",
   "metadata": {
    "id": "e85aef2f-f723-4220-ae47-89e5a6bc2bc8"
   },
   "source": [
    "#### Quartiles\n",
    "Quartiles are the values that divide the data into four equal parts. The first quartile is the median of the lower half of the data. The second quartile is the median of the data. The third quartile is the median of the upper half of the data."
   ]
  },
  {
   "cell_type": "code",
   "execution_count": null,
   "id": "3763ddd8-f2c1-4472-a088-5fbcbcb79656",
   "metadata": {
    "id": "3763ddd8-f2c1-4472-a088-5fbcbcb79656",
    "outputId": "2bc80930-bd8a-45df-e7b4-961d8dad3b81"
   },
   "outputs": [
    {
     "data": {
      "text/html": [
       "<div>\n",
       "<style scoped>\n",
       "    .dataframe tbody tr th:only-of-type {\n",
       "        vertical-align: middle;\n",
       "    }\n",
       "\n",
       "    .dataframe tbody tr th {\n",
       "        vertical-align: top;\n",
       "    }\n",
       "\n",
       "    .dataframe thead th {\n",
       "        text-align: right;\n",
       "    }\n",
       "</style>\n",
       "<table border=\"1\" class=\"dataframe\">\n",
       "  <thead>\n",
       "    <tr style=\"text-align: right;\">\n",
       "      <th></th>\n",
       "      <th>0.25</th>\n",
       "      <th>0.50</th>\n",
       "      <th>0.75</th>\n",
       "    </tr>\n",
       "  </thead>\n",
       "  <tbody>\n",
       "    <tr>\n",
       "      <th>NA_Sales</th>\n",
       "      <td>0.00</td>\n",
       "      <td>0.08</td>\n",
       "      <td>0.24</td>\n",
       "    </tr>\n",
       "    <tr>\n",
       "      <th>EU_Sales</th>\n",
       "      <td>0.00</td>\n",
       "      <td>0.02</td>\n",
       "      <td>0.11</td>\n",
       "    </tr>\n",
       "    <tr>\n",
       "      <th>JP_Sales</th>\n",
       "      <td>0.00</td>\n",
       "      <td>0.00</td>\n",
       "      <td>0.04</td>\n",
       "    </tr>\n",
       "    <tr>\n",
       "      <th>Other_Sales</th>\n",
       "      <td>0.00</td>\n",
       "      <td>0.01</td>\n",
       "      <td>0.04</td>\n",
       "    </tr>\n",
       "    <tr>\n",
       "      <th>Global_Sales</th>\n",
       "      <td>0.06</td>\n",
       "      <td>0.17</td>\n",
       "      <td>0.48</td>\n",
       "    </tr>\n",
       "  </tbody>\n",
       "</table>\n",
       "</div>"
      ],
      "text/plain": [
       "              0.25  0.50  0.75\n",
       "NA_Sales      0.00  0.08  0.24\n",
       "EU_Sales      0.00  0.02  0.11\n",
       "JP_Sales      0.00  0.00  0.04\n",
       "Other_Sales   0.00  0.01  0.04\n",
       "Global_Sales  0.06  0.17  0.48"
      ]
     },
     "metadata": {},
     "output_type": "display_data"
    }
   ],
   "source": [
    "quant_values = df[columns].quantile([0.25, 0.5, 0.75]).transpose()\n",
    "display(quant_values)"
   ]
  },
  {
   "cell_type": "markdown",
   "id": "26caf193-e9f4-4c87-afcc-cb2481fca727",
   "metadata": {
    "id": "26caf193-e9f4-4c87-afcc-cb2481fca727"
   },
   "source": [
    "### 2.3. Estimation of the parameters of the joint distribution of two variables (covariance, correlation coefficient)"
   ]
  },
  {
   "cell_type": "markdown",
   "id": "6dd94568-3050-4baa-ad2a-1b622f324188",
   "metadata": {
    "id": "6dd94568-3050-4baa-ad2a-1b622f324188"
   },
   "source": [
    "#### Covariance\n",
    "Covariance provides insight into how two variables are related to one another. More precisely, covariance refers to the measure of how two random variables in a data set will change together. A positive covariance means that the two variables at hand are positively related, and they move in the same direciton. A negative covariance means that the variables are inversely related, or that they move in opposite directions.\n",
    "\n",
    "$$ \\large\\mathbf{Cov(X,Y) = \\sum_{i=1}^{n}(x_i - E(X))(y_i - E(Y))P(X = x_i, Y = y_i)}$$"
   ]
  },
  {
   "cell_type": "code",
   "execution_count": null,
   "id": "dcc6bca0-368c-4099-9a19-8fbc020b3dbd",
   "metadata": {
    "id": "dcc6bca0-368c-4099-9a19-8fbc020b3dbd",
    "outputId": "62e46d69-167f-446d-d2e6-a5e675e52a55"
   },
   "outputs": [
    {
     "data": {
      "text/html": [
       "<div>\n",
       "<style scoped>\n",
       "    .dataframe tbody tr th:only-of-type {\n",
       "        vertical-align: middle;\n",
       "    }\n",
       "\n",
       "    .dataframe tbody tr th {\n",
       "        vertical-align: top;\n",
       "    }\n",
       "\n",
       "    .dataframe thead th {\n",
       "        text-align: right;\n",
       "    }\n",
       "</style>\n",
       "<table border=\"1\" class=\"dataframe\">\n",
       "  <thead>\n",
       "    <tr style=\"text-align: right;\">\n",
       "      <th></th>\n",
       "      <th>NA_Sales</th>\n",
       "      <th>EU_Sales</th>\n",
       "      <th>JP_Sales</th>\n",
       "      <th>Other_Sales</th>\n",
       "      <th>Global_Sales</th>\n",
       "    </tr>\n",
       "  </thead>\n",
       "  <tbody>\n",
       "    <tr>\n",
       "      <th>NA_Sales</th>\n",
       "      <td>0.669007</td>\n",
       "      <td>0.317799</td>\n",
       "      <td>0.113993</td>\n",
       "      <td>0.098047</td>\n",
       "      <td>1.198749</td>\n",
       "    </tr>\n",
       "    <tr>\n",
       "      <th>EU_Sales</th>\n",
       "      <td>0.317799</td>\n",
       "      <td>0.256167</td>\n",
       "      <td>0.068311</td>\n",
       "      <td>0.069435</td>\n",
       "      <td>0.711652</td>\n",
       "    </tr>\n",
       "    <tr>\n",
       "      <th>JP_Sales</th>\n",
       "      <td>0.113993</td>\n",
       "      <td>0.068311</td>\n",
       "      <td>0.095976</td>\n",
       "      <td>0.016978</td>\n",
       "      <td>0.295232</td>\n",
       "    </tr>\n",
       "    <tr>\n",
       "      <th>Other_Sales</th>\n",
       "      <td>0.098047</td>\n",
       "      <td>0.069435</td>\n",
       "      <td>0.016978</td>\n",
       "      <td>0.035675</td>\n",
       "      <td>0.220111</td>\n",
       "    </tr>\n",
       "    <tr>\n",
       "      <th>Global_Sales</th>\n",
       "      <td>1.198749</td>\n",
       "      <td>0.711652</td>\n",
       "      <td>0.295232</td>\n",
       "      <td>0.220111</td>\n",
       "      <td>2.425568</td>\n",
       "    </tr>\n",
       "  </tbody>\n",
       "</table>\n",
       "</div>"
      ],
      "text/plain": [
       "              NA_Sales  EU_Sales  JP_Sales  Other_Sales  Global_Sales\n",
       "NA_Sales      0.669007  0.317799  0.113993     0.098047      1.198749\n",
       "EU_Sales      0.317799  0.256167  0.068311     0.069435      0.711652\n",
       "JP_Sales      0.113993  0.068311  0.095976     0.016978      0.295232\n",
       "Other_Sales   0.098047  0.069435  0.016978     0.035675      0.220111\n",
       "Global_Sales  1.198749  0.711652  0.295232     0.220111      2.425568"
      ]
     },
     "metadata": {},
     "output_type": "display_data"
    }
   ],
   "source": [
    "covariance = df[columns].cov()\n",
    "display(covariance)"
   ]
  },
  {
   "cell_type": "markdown",
   "id": "a1626596-83d9-4bc1-ae81-74f5a9845345",
   "metadata": {
    "id": "a1626596-83d9-4bc1-ae81-74f5a9845345"
   },
   "source": [
    "#### Correlation Coefficient\n",
    "\n",
    "Correlation coefficient is a normalized version of covariance. Both covariance and correlation measure relationship and the dependency between two variables but correlation measures both the strength and direction of the linear realtionship between two variables. Correlation is a function of the covariance.\n",
    "\n",
    "You can obtain the correlation coefficient of two variables by dividing the covariance of these variables by the product of the standard deviations of the same values.\n",
    "\n",
    "$$ \\large\\mathbf{\\rho(X,Y) = \\frac{Cov(X,Y)}{\\sigma_X\\sigma_Y}}$$"
   ]
  },
  {
   "cell_type": "code",
   "execution_count": null,
   "id": "0f32a18d-c75c-4ddf-9442-55d43e15ca87",
   "metadata": {
    "id": "0f32a18d-c75c-4ddf-9442-55d43e15ca87",
    "outputId": "12ca1f48-4022-4064-f702-88b8ff74514c"
   },
   "outputs": [
    {
     "data": {
      "text/html": [
       "<div>\n",
       "<style scoped>\n",
       "    .dataframe tbody tr th:only-of-type {\n",
       "        vertical-align: middle;\n",
       "    }\n",
       "\n",
       "    .dataframe tbody tr th {\n",
       "        vertical-align: top;\n",
       "    }\n",
       "\n",
       "    .dataframe thead th {\n",
       "        text-align: right;\n",
       "    }\n",
       "</style>\n",
       "<table border=\"1\" class=\"dataframe\">\n",
       "  <thead>\n",
       "    <tr style=\"text-align: right;\">\n",
       "      <th></th>\n",
       "      <th>NA_Sales</th>\n",
       "      <th>EU_Sales</th>\n",
       "      <th>JP_Sales</th>\n",
       "      <th>Other_Sales</th>\n",
       "      <th>Global_Sales</th>\n",
       "    </tr>\n",
       "  </thead>\n",
       "  <tbody>\n",
       "    <tr>\n",
       "      <th>NA_Sales</th>\n",
       "      <td>1.000000</td>\n",
       "      <td>0.767672</td>\n",
       "      <td>0.449864</td>\n",
       "      <td>0.634651</td>\n",
       "      <td>0.941036</td>\n",
       "    </tr>\n",
       "    <tr>\n",
       "      <th>EU_Sales</th>\n",
       "      <td>0.767672</td>\n",
       "      <td>1.000000</td>\n",
       "      <td>0.435658</td>\n",
       "      <td>0.726326</td>\n",
       "      <td>0.902817</td>\n",
       "    </tr>\n",
       "    <tr>\n",
       "      <th>JP_Sales</th>\n",
       "      <td>0.449864</td>\n",
       "      <td>0.435658</td>\n",
       "      <td>1.000000</td>\n",
       "      <td>0.290150</td>\n",
       "      <td>0.611893</td>\n",
       "    </tr>\n",
       "    <tr>\n",
       "      <th>Other_Sales</th>\n",
       "      <td>0.634651</td>\n",
       "      <td>0.726326</td>\n",
       "      <td>0.290150</td>\n",
       "      <td>1.000000</td>\n",
       "      <td>0.748260</td>\n",
       "    </tr>\n",
       "    <tr>\n",
       "      <th>Global_Sales</th>\n",
       "      <td>0.941036</td>\n",
       "      <td>0.902817</td>\n",
       "      <td>0.611893</td>\n",
       "      <td>0.748260</td>\n",
       "      <td>1.000000</td>\n",
       "    </tr>\n",
       "  </tbody>\n",
       "</table>\n",
       "</div>"
      ],
      "text/plain": [
       "              NA_Sales  EU_Sales  JP_Sales  Other_Sales  Global_Sales\n",
       "NA_Sales      1.000000  0.767672  0.449864     0.634651      0.941036\n",
       "EU_Sales      0.767672  1.000000  0.435658     0.726326      0.902817\n",
       "JP_Sales      0.449864  0.435658  1.000000     0.290150      0.611893\n",
       "Other_Sales   0.634651  0.726326  0.290150     1.000000      0.748260\n",
       "Global_Sales  0.941036  0.902817  0.611893     0.748260      1.000000"
      ]
     },
     "metadata": {},
     "output_type": "display_data"
    }
   ],
   "source": [
    "correlation = df[columns].corr()\n",
    "display(correlation)"
   ]
  },
  {
   "cell_type": "markdown",
   "id": "ac8f260a-69b1-42c2-a4ef-54e9cca19e9c",
   "metadata": {
    "id": "ac8f260a-69b1-42c2-a4ef-54e9cca19e9c"
   },
   "source": [
    "### 2.4. Parametric hypothesis testing\n",
    "Parametric hypothesis testing is used to determine if two samples come from the same distribution. The test is based on the difference between the means of the two samples."
   ]
  },
  {
   "cell_type": "code",
   "execution_count": null,
   "id": "f5da9b19-b6cf-4acf-9388-38f60a4899b6",
   "metadata": {
    "id": "f5da9b19-b6cf-4acf-9388-38f60a4899b6",
    "outputId": "59cb6fb3-983d-4f26-a464-8cab560c6788"
   },
   "outputs": [
    {
     "name": "stdout",
     "output_type": "stream",
     "text": [
      "Global Sales mean: 0.54\n",
      "Sample mean: 0.41\n",
      "Confidence interval: (0.10547335924936013, 0.7235266407506398)\n"
     ]
    }
   ],
   "source": [
    "test_data = df['Global_Sales']\n",
    "\n",
    "# Number of samples\n",
    "number_of_samples = 100\n",
    "\n",
    "# Median and standard deviation\n",
    "mean = test_data.mean()\n",
    "std = test_data.std()\n",
    "\n",
    "# Get random samples\n",
    "sample = test_data.sample(number_of_samples)\n",
    "\n",
    "# Find the average of the sample\n",
    "avg = sample.mean()\n",
    "\n",
    "# Confidence level\n",
    "alpha = 0.05\n",
    "\n",
    "# Generate confidence interval\n",
    "CI = stats.t.interval(1 - alpha, df=number_of_samples - 1, loc=avg, scale=std/np.sqrt(number_of_samples))\n",
    "\n",
    "print(f\"Global Sales mean: {mean:.2f}\")\n",
    "print(f\"Sample mean: {avg:.2f}\")\n",
    "print(f\"Confidence interval: {CI}\")"
   ]
  },
  {
   "cell_type": "code",
   "execution_count": null,
   "id": "4e651b4e-58b4-4792-8e54-08709c800d05",
   "metadata": {
    "id": "4e651b4e-58b4-4792-8e54-08709c800d05",
    "outputId": "128e24b1-09f7-4ed4-8c1f-4652e24edf14"
   },
   "outputs": [
    {
     "name": "stdout",
     "output_type": "stream",
     "text": [
      "p-value: 0.43\n"
     ]
    }
   ],
   "source": [
    "# Margin of error\n",
    "margin = np.abs(avg - mean)\n",
    "\n",
    "# Quantile\n",
    "quantile = margin * (np.sqrt(number_of_samples)) / std\n",
    "\n",
    "p_val = 2 * (1 - stats.t.cdf(quantile, df=number_of_samples - 1))\n",
    "\n",
    "print(f\"p-value: {p_val:.2f}\")"
   ]
  },
  {
   "cell_type": "markdown",
   "id": "b2d3eedd-8440-4a1f-b002-e9069253b837",
   "metadata": {
    "id": "b2d3eedd-8440-4a1f-b002-e9069253b837"
   },
   "source": [
    "## 3. Regression analysis"
   ]
  },
  {
   "cell_type": "markdown",
   "id": "18152049-f563-41d0-8295-ea48ce8b2f40",
   "metadata": {
    "id": "18152049-f563-41d0-8295-ea48ce8b2f40"
   },
   "source": [
    "### 3.1 Data Processing\n",
    "We will not use \"Rank\", \"Name\", \"Year\", \"Publisher\" variables in this data set. So we will delete these variables"
   ]
  },
  {
   "cell_type": "code",
   "execution_count": null,
   "id": "c5f6155f-6953-46fa-a351-4455d3448bee",
   "metadata": {
    "id": "c5f6155f-6953-46fa-a351-4455d3448bee",
    "outputId": "b71e6f24-14b5-49f1-9280-997cdf140370"
   },
   "outputs": [
    {
     "data": {
      "text/html": [
       "<div>\n",
       "<style scoped>\n",
       "    .dataframe tbody tr th:only-of-type {\n",
       "        vertical-align: middle;\n",
       "    }\n",
       "\n",
       "    .dataframe tbody tr th {\n",
       "        vertical-align: top;\n",
       "    }\n",
       "\n",
       "    .dataframe thead th {\n",
       "        text-align: right;\n",
       "    }\n",
       "</style>\n",
       "<table border=\"1\" class=\"dataframe\">\n",
       "  <thead>\n",
       "    <tr style=\"text-align: right;\">\n",
       "      <th></th>\n",
       "      <th>Platform</th>\n",
       "      <th>Genre</th>\n",
       "      <th>NA_Sales</th>\n",
       "      <th>EU_Sales</th>\n",
       "      <th>JP_Sales</th>\n",
       "      <th>Other_Sales</th>\n",
       "      <th>Global_Sales</th>\n",
       "      <th>Popularity_Scale</th>\n",
       "      <th>Rating</th>\n",
       "    </tr>\n",
       "  </thead>\n",
       "  <tbody>\n",
       "    <tr>\n",
       "      <th>0</th>\n",
       "      <td>Wii</td>\n",
       "      <td>Sports</td>\n",
       "      <td>41.49</td>\n",
       "      <td>29.02</td>\n",
       "      <td>3.77</td>\n",
       "      <td>8.46</td>\n",
       "      <td>82.74</td>\n",
       "      <td>5</td>\n",
       "      <td>5</td>\n",
       "    </tr>\n",
       "    <tr>\n",
       "      <th>1</th>\n",
       "      <td>NES</td>\n",
       "      <td>Platform</td>\n",
       "      <td>29.08</td>\n",
       "      <td>3.58</td>\n",
       "      <td>6.81</td>\n",
       "      <td>0.77</td>\n",
       "      <td>40.24</td>\n",
       "      <td>5</td>\n",
       "      <td>4</td>\n",
       "    </tr>\n",
       "    <tr>\n",
       "      <th>2</th>\n",
       "      <td>Wii</td>\n",
       "      <td>Racing</td>\n",
       "      <td>15.85</td>\n",
       "      <td>12.88</td>\n",
       "      <td>3.79</td>\n",
       "      <td>3.31</td>\n",
       "      <td>35.82</td>\n",
       "      <td>5</td>\n",
       "      <td>9</td>\n",
       "    </tr>\n",
       "    <tr>\n",
       "      <th>3</th>\n",
       "      <td>Wii</td>\n",
       "      <td>Sports</td>\n",
       "      <td>15.75</td>\n",
       "      <td>11.01</td>\n",
       "      <td>3.28</td>\n",
       "      <td>2.96</td>\n",
       "      <td>33.00</td>\n",
       "      <td>5</td>\n",
       "      <td>8</td>\n",
       "    </tr>\n",
       "    <tr>\n",
       "      <th>4</th>\n",
       "      <td>GB</td>\n",
       "      <td>Role-Playing</td>\n",
       "      <td>11.27</td>\n",
       "      <td>8.89</td>\n",
       "      <td>10.22</td>\n",
       "      <td>1.00</td>\n",
       "      <td>31.37</td>\n",
       "      <td>5</td>\n",
       "      <td>6</td>\n",
       "    </tr>\n",
       "  </tbody>\n",
       "</table>\n",
       "</div>"
      ],
      "text/plain": [
       "  Platform         Genre  NA_Sales  EU_Sales  JP_Sales  Other_Sales  \\\n",
       "0      Wii        Sports     41.49     29.02      3.77         8.46   \n",
       "1      NES      Platform     29.08      3.58      6.81         0.77   \n",
       "2      Wii        Racing     15.85     12.88      3.79         3.31   \n",
       "3      Wii        Sports     15.75     11.01      3.28         2.96   \n",
       "4       GB  Role-Playing     11.27      8.89     10.22         1.00   \n",
       "\n",
       "   Global_Sales Popularity_Scale  Rating  \n",
       "0         82.74                5       5  \n",
       "1         40.24                5       4  \n",
       "2         35.82                5       9  \n",
       "3         33.00                5       8  \n",
       "4         31.37                5       6  "
      ]
     },
     "execution_count": 67,
     "metadata": {},
     "output_type": "execute_result"
    }
   ],
   "source": [
    "df.drop([\"Rank\",\"Name\",\"Year\",\"Publisher\"],axis=1,inplace=True)\n",
    "df.head()"
   ]
  },
  {
   "cell_type": "markdown",
   "id": "9da9b668-4400-479a-8ce7-8a512c743d38",
   "metadata": {
    "id": "9da9b668-4400-479a-8ce7-8a512c743d38"
   },
   "source": [
    "### 3.2. Linear regression\n",
    "is a statistical method used to find the relationship between two variables. The relationship is modeled using a linear function. The linear function is a straight line that passes through the origin. The linear function is represented by the equation:\n",
    "$$\\large\\mathbf {y = mx + b}$$"
   ]
  },
  {
   "cell_type": "code",
   "execution_count": null,
   "id": "19f3e904-9444-4ad2-86bb-e6a12f46fc64",
   "metadata": {
    "id": "19f3e904-9444-4ad2-86bb-e6a12f46fc64"
   },
   "outputs": [],
   "source": [
    "df_lr = df[['NA_Sales', 'EU_Sales', 'JP_Sales', 'Other_Sales', 'Global_Sales']]"
   ]
  },
  {
   "cell_type": "code",
   "execution_count": null,
   "id": "7564c6c3-c4a0-42f4-af48-2c6f55a0a324",
   "metadata": {
    "id": "7564c6c3-c4a0-42f4-af48-2c6f55a0a324",
    "outputId": "9997512a-855e-4b99-faf4-6344b8c6fcaa"
   },
   "outputs": [
    {
     "name": "stdout",
     "output_type": "stream",
     "text": [
      "                            OLS Regression Results                            \n",
      "==============================================================================\n",
      "Dep. Variable:           Global_Sales   R-squared:                       0.886\n",
      "Model:                            OLS   Adj. R-squared:                  0.886\n",
      "Method:                 Least Squares   F-statistic:                 1.280e+05\n",
      "Date:                Sun, 26 Nov 2023   Prob (F-statistic):               0.00\n",
      "Time:                        22:13:40   Log-Likelihood:                -12870.\n",
      "No. Observations:               16540   AIC:                         2.574e+04\n",
      "Df Residuals:                   16538   BIC:                         2.576e+04\n",
      "Df Model:                           1                                         \n",
      "Covariance Type:            nonrobust                                         \n",
      "==============================================================================\n",
      "                 coef    std err          t      P>|t|      [0.025      0.975]\n",
      "------------------------------------------------------------------------------\n",
      "Intercept      0.0634      0.004     14.732      0.000       0.055       0.072\n",
      "NA_Sales       1.7918      0.005    357.714      0.000       1.782       1.802\n",
      "==============================================================================\n",
      "Omnibus:                     9973.344   Durbin-Watson:                   1.926\n",
      "Prob(Omnibus):                  0.000   Jarque-Bera (JB):         38891619.462\n",
      "Skew:                           1.174   Prob(JB):                         0.00\n",
      "Kurtosis:                     240.544   Cond. No.                         1.42\n",
      "==============================================================================\n",
      "\n",
      "Notes:\n",
      "[1] Standard Errors assume that the covariance matrix of the errors is correctly specified.\n"
     ]
    }
   ],
   "source": [
    "M1 = sm.ols(\"Global_Sales ~ NA_Sales\", df_lr).fit()\n",
    "print(M1.summary())"
   ]
  },
  {
   "cell_type": "code",
   "execution_count": null,
   "id": "2610f4c7-9fe2-4497-9503-57026476f929",
   "metadata": {
    "id": "2610f4c7-9fe2-4497-9503-57026476f929",
    "outputId": "7e1de4f7-a6ee-4cf7-cf0c-78e8d8ac26c8"
   },
   "outputs": [
    {
     "data": {
      "image/png": "[encoded data removed]",
      "text/plain": [
       "<Figure size 640x480 with 1 Axes>"
      ]
     },
     "metadata": {},
     "output_type": "display_data"
    }
   ],
   "source": [
    "df_lr.plot('NA_Sales', 'Global_Sales', kind='scatter')\n",
    "plt.plot(df_lr['NA_Sales'], M1.fittedvalues, color='red')\n",
    "plt.show()"
   ]
  },
  {
   "cell_type": "markdown",
   "id": "2204682d-a53b-4bc4-8c81-98806c742428",
   "metadata": {
    "id": "2204682d-a53b-4bc4-8c81-98806c742428"
   },
   "source": [
    "df_lr = df_lr.drop(df_lr[df_lr['NA_Sales'] > 40].index)"
   ]
  },
  {
   "cell_type": "code",
   "execution_count": null,
   "id": "f0996fe5-054f-4c47-a53a-043a547bd5fd",
   "metadata": {
    "id": "f0996fe5-054f-4c47-a53a-043a547bd5fd",
    "outputId": "9d1dee47-6b04-40ac-e3a4-e71b1c6125b2"
   },
   "outputs": [
    {
     "name": "stdout",
     "output_type": "stream",
     "text": [
      "                            OLS Regression Results                            \n",
      "==============================================================================\n",
      "Dep. Variable:           Global_Sales   R-squared:                       0.993\n",
      "Model:                            OLS   Adj. R-squared:                  0.993\n",
      "Method:                 Least Squares   F-statistic:                 8.174e+05\n",
      "Date:                Sun, 26 Nov 2023   Prob (F-statistic):               0.00\n",
      "Time:                        22:13:45   Log-Likelihood:                 10602.\n",
      "No. Observations:               16540   AIC:                        -2.120e+04\n",
      "Df Residuals:                   16536   BIC:                        -2.117e+04\n",
      "Df Model:                           3                                         \n",
      "Covariance Type:            nonrobust                                         \n",
      "==============================================================================\n",
      "                 coef    std err          t      P>|t|      [0.025      0.975]\n",
      "------------------------------------------------------------------------------\n",
      "Intercept      0.0062      0.001      5.938      0.000       0.004       0.008\n",
      "NA_Sales       1.0473      0.002    542.589      0.000       1.043       1.051\n",
      "EU_Sales       1.2222      0.003    394.929      0.000       1.216       1.228\n",
      "JP_Sales       0.9623      0.004    265.246      0.000       0.955       0.969\n",
      "==============================================================================\n",
      "Omnibus:                    49996.954   Durbin-Watson:                   1.946\n",
      "Prob(Omnibus):                  0.000   Jarque-Bera (JB):       6540165717.897\n",
      "Skew:                          44.503   Prob(JB):                         0.00\n",
      "Kurtosis:                    3082.292   Cond. No.                         4.28\n",
      "==============================================================================\n",
      "\n",
      "Notes:\n",
      "[1] Standard Errors assume that the covariance matrix of the errors is correctly specified.\n"
     ]
    }
   ],
   "source": [
    "M2 = sm.ols(\"Global_Sales ~ NA_Sales + EU_Sales + JP_Sales\", df_lr).fit()\n",
    "print(M2.summary())"
   ]
  },
  {
   "cell_type": "code",
   "execution_count": null,
   "id": "21c4e963-393c-4572-943b-99a8cb755a9d",
   "metadata": {
    "id": "21c4e963-393c-4572-943b-99a8cb755a9d",
    "outputId": "8ead0f1b-a9d7-47ff-b821-57fd0e9b0aa1"
   },
   "outputs": [
    {
     "name": "stdout",
     "output_type": "stream",
     "text": [
      "                            OLS Regression Results                            \n",
      "==============================================================================\n",
      "Dep. Variable:           Global_Sales   R-squared:                       0.980\n",
      "Model:                            OLS   Adj. R-squared:                  0.980\n",
      "Method:                 Least Squares   F-statistic:                 2.022e+05\n",
      "Date:                Sun, 26 Nov 2023   Prob (F-statistic):               0.00\n",
      "Time:                        22:05:25   Log-Likelihood:                 1542.1\n",
      "No. Observations:               16540   AIC:                            -3074.\n",
      "Df Residuals:                   16535   BIC:                            -3036.\n",
      "Df Model:                           4                                         \n",
      "Covariance Type:            nonrobust                                         \n",
      "====================================================================================\n",
      "                       coef    std err          t      P>|t|      [0.025      0.975]\n",
      "------------------------------------------------------------------------------------\n",
      "Intercept            0.0463      0.002     24.999      0.000       0.043       0.050\n",
      "NA_Sales             1.0931      0.004    299.165      0.000       1.086       1.100\n",
      "EU_Sales             0.6371      0.003    238.497      0.000       0.632       0.642\n",
      "I(JP_Sales ** 2)     0.1534      0.001    110.030      0.000       0.151       0.156\n",
      "I(NA_Sales ** 3) -4.215e-05   3.45e-06    -12.207      0.000   -4.89e-05   -3.54e-05\n",
      "I(EU_Sales)          0.6371      0.003    238.497      0.000       0.632       0.642\n",
      "==============================================================================\n",
      "Omnibus:                    24321.281   Durbin-Watson:                   1.888\n",
      "Prob(Omnibus):                  0.000   Jarque-Bera (JB):        173941508.886\n",
      "Skew:                           7.832   Prob(JB):                         0.00\n",
      "Kurtosis:                     505.144   Cond. No.                     2.44e+18\n",
      "==============================================================================\n",
      "\n",
      "Notes:\n",
      "[1] Standard Errors assume that the covariance matrix of the errors is correctly specified.\n",
      "[2] The smallest eigenvalue is 1.06e-27. This might indicate that there are\n",
      "strong multicollinearity problems or that the design matrix is singular.\n"
     ]
    }
   ],
   "source": [
    "#y=b0+b1x+b2x2+b3x3\n",
    "M4 = sm.ols(\"Global_Sales ~ NA_Sales + EU_Sales + I(JP_Sales**2) + I(NA_Sales**3) + I(EU_Sales)\", df_lr).fit()\n",
    "print(M4.summary())"
   ]
  }
 ],
 "metadata": {
  "colab": {
   "provenance": []
  },
  "kernelspec": {
   "display_name": "Python 3 (ipykernel)",
   "language": "python",
   "name": "python3"
  },
  "language_info": {
   "codemirror_mode": {
    "name": "ipython",
    "version": 3
   },
   "file_extension": ".py",
   "mimetype": "text/x-python",
   "name": "python",
   "nbconvert_exporter": "python",
   "pygments_lexer": "ipython3",
   "version": "3.10.12"
  }
 },
 "nbformat": 4,
 "nbformat_minor": 5
}
