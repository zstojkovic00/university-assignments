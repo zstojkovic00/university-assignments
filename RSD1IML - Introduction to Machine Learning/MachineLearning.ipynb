{
 "cells": [
  {
   "cell_type": "markdown",
   "metadata": {
    "id": "rhwnFlJk76FR"
   },
   "source": [
    "# Zeljko Stojkovic 2021230319 - Introduction to Machine Learning\n"
   ]
  },
  {
   "cell_type": "markdown",
   "metadata": {
    "id": "kE7fruLi7f4v"
   },
   "source": [
    "# Instructions:\n",
    "###  Linear Regression\n",
    "- Choosing a dataset\n",
    "- Plot the data\n",
    "- Compute Cost Function\n",
    "- Make a function that run gradient descent\n",
    "- Compute Cost Function for multivariate Linear Regression\n",
    "- Compute Cost for multivariate Gradient Descent\n",
    "- Do the feature normalization\n",
    "- Make a function that computes the normal equation.\n",
    "### Logistic Regression\n",
    "- Choosing a dataset\n",
    "- Plot the data\n",
    "- Make code that computes sigmoid function\n",
    "- Compute the Logistic Regression Cost Function\n",
    "- Make a prediction for the test sample\n",
    "- Compute Regularized Cost Function\n",
    "### Neural Networks\n",
    "- Choosing a dataset\n",
    "- Compute the gradient of the sigmoid function\n",
    "- Randomly initialize weights\n",
    "- Compute Neural network cost function\n",
    "### Kmeans\n",
    "- Choosing a dataset\n",
    "- Plot the data\n",
    "- Initialize K means centroids\n",
    "- Find the closesr Centroids\n",
    "- Compute Centroids means\n",
    "- Run K means algorithm\n",
    "- Plot each step of Kmeans as it processds"
   ]
  },
  {
   "cell_type": "code",
   "execution_count": 113,
   "metadata": {
    "executionInfo": {
     "elapsed": 303,
     "status": "ok",
     "timestamp": 1724766929455,
     "user": {
      "displayName": "Zeljko Stojkovic",
      "userId": "05844160719545318254"
     },
     "user_tz": -120
    },
    "id": "OV8roJ20UWCn"
   },
   "outputs": [],
   "source": [
    "import pandas as pd\n",
    "import numpy as np\n",
    "import matplotlib.pyplot as plt\n",
    "import seaborn as sns\n",
    "from math import exp\n",
    "from random import seed, random\n",
    "from sklearn.datasets import load_wine\n",
    "from sklearn.model_selection import train_test_split\n",
    "from sklearn.preprocessing import StandardScaler"
   ]
  },
  {
   "cell_type": "markdown",
   "metadata": {
    "id": "k50MzX67UGrG"
   },
   "source": [
    "### **1.1. Linear Regression (Single Feature)**"
   ]
  },
  {
   "cell_type": "code",
   "execution_count": 114,
   "metadata": {
    "colab": {
     "base_uri": "https://localhost:8080/",
     "height": 206
    },
    "executionInfo": {
     "elapsed": 4,
     "status": "ok",
     "timestamp": 1724766929760,
     "user": {
      "displayName": "Zeljko Stojkovic",
      "userId": "05844160719545318254"
     },
     "user_tz": -120
    },
    "id": "i6m1W2qKUJ1G",
    "outputId": "309338c1-fea2-4114-8a4a-fcbafe720f5a"
   },
   "outputs": [
    {
     "data": {
      "application/vnd.google.colaboratory.intrinsic+json": {
       "summary": "{\n  \"name\": \"df\",\n  \"rows\": 28,\n  \"fields\": [\n    {\n      \"column\": \"Hours\",\n      \"properties\": {\n        \"dtype\": \"number\",\n        \"std\": 2.53056187164894,\n        \"min\": 1.1,\n        \"max\": 9.2,\n        \"num_unique_values\": 25,\n        \"samples\": [\n          8.3,\n          1.9,\n          2.5\n        ],\n        \"semantic_type\": \"\",\n        \"description\": \"\"\n      }\n    },\n    {\n      \"column\": \"Scores\",\n      \"properties\": {\n        \"dtype\": \"number\",\n        \"std\": 25,\n        \"min\": 17,\n        \"max\": 95,\n        \"num_unique_values\": 25,\n        \"samples\": [\n          81,\n          24,\n          21\n        ],\n        \"semantic_type\": \"\",\n        \"description\": \"\"\n      }\n    }\n  ]\n}",
       "type": "dataframe",
       "variable_name": "df"
      },
      "text/html": [
       "\n",
       "  <div id=\"df-c3e5ad84-5fc2-4b13-b588-2353ef6f8ae7\" class=\"colab-df-container\">\n",
       "    <div>\n",
       "<style scoped>\n",
       "    .dataframe tbody tr th:only-of-type {\n",
       "        vertical-align: middle;\n",
       "    }\n",
       "\n",
       "    .dataframe tbody tr th {\n",
       "        vertical-align: top;\n",
       "    }\n",
       "\n",
       "    .dataframe thead th {\n",
       "        text-align: right;\n",
       "    }\n",
       "</style>\n",
       "<table border=\"1\" class=\"dataframe\">\n",
       "  <thead>\n",
       "    <tr style=\"text-align: right;\">\n",
       "      <th></th>\n",
       "      <th>Hours</th>\n",
       "      <th>Scores</th>\n",
       "    </tr>\n",
       "  </thead>\n",
       "  <tbody>\n",
       "    <tr>\n",
       "      <th>0</th>\n",
       "      <td>2.5</td>\n",
       "      <td>21</td>\n",
       "    </tr>\n",
       "    <tr>\n",
       "      <th>1</th>\n",
       "      <td>5.1</td>\n",
       "      <td>47</td>\n",
       "    </tr>\n",
       "    <tr>\n",
       "      <th>2</th>\n",
       "      <td>3.2</td>\n",
       "      <td>27</td>\n",
       "    </tr>\n",
       "    <tr>\n",
       "      <th>3</th>\n",
       "      <td>8.5</td>\n",
       "      <td>75</td>\n",
       "    </tr>\n",
       "    <tr>\n",
       "      <th>4</th>\n",
       "      <td>3.5</td>\n",
       "      <td>30</td>\n",
       "    </tr>\n",
       "  </tbody>\n",
       "</table>\n",
       "</div>\n",
       "    <div class=\"colab-df-buttons\">\n",
       "\n",
       "  <div class=\"colab-df-container\">\n",
       "    <button class=\"colab-df-convert\" onclick=\"convertToInteractive('df-c3e5ad84-5fc2-4b13-b588-2353ef6f8ae7')\"\n",
       "            title=\"Convert this dataframe to an interactive table.\"\n",
       "            style=\"display:none;\">\n",
       "\n",
       "  <svg xmlns=\"http://www.w3.org/2000/svg\" height=\"24px\" viewBox=\"0 -960 960 960\">\n",
       "    <path d=\"M120-120v-720h720v720H120Zm60-500h600v-160H180v160Zm220 220h160v-160H400v160Zm0 220h160v-160H400v160ZM180-400h160v-160H180v160Zm440 0h160v-160H620v160ZM180-180h160v-160H180v160Zm440 0h160v-160H620v160Z\"/>\n",
       "  </svg>\n",
       "    </button>\n",
       "\n",
       "  <style>\n",
       "    .colab-df-container {\n",
       "      display:flex;\n",
       "      gap: 12px;\n",
       "    }\n",
       "\n",
       "    .colab-df-convert {\n",
       "      background-color: #E8F0FE;\n",
       "      border: none;\n",
       "      border-radius: 50%;\n",
       "      cursor: pointer;\n",
       "      display: none;\n",
       "      fill: #1967D2;\n",
       "      height: 32px;\n",
       "      padding: 0 0 0 0;\n",
       "      width: 32px;\n",
       "    }\n",
       "\n",
       "    .colab-df-convert:hover {\n",
       "      background-color: #E2EBFA;\n",
       "      box-shadow: 0px 1px 2px rgba(60, 64, 67, 0.3), 0px 1px 3px 1px rgba(60, 64, 67, 0.15);\n",
       "      fill: #174EA6;\n",
       "    }\n",
       "\n",
       "    .colab-df-buttons div {\n",
       "      margin-bottom: 4px;\n",
       "    }\n",
       "\n",
       "    [theme=dark] .colab-df-convert {\n",
       "      background-color: #3B4455;\n",
       "      fill: #D2E3FC;\n",
       "    }\n",
       "\n",
       "    [theme=dark] .colab-df-convert:hover {\n",
       "      background-color: #434B5C;\n",
       "      box-shadow: 0px 1px 3px 1px rgba(0, 0, 0, 0.15);\n",
       "      filter: drop-shadow(0px 1px 2px rgba(0, 0, 0, 0.3));\n",
       "      fill: #FFFFFF;\n",
       "    }\n",
       "  </style>\n",
       "\n",
       "    <script>\n",
       "      const buttonEl =\n",
       "        document.querySelector('#df-c3e5ad84-5fc2-4b13-b588-2353ef6f8ae7 button.colab-df-convert');\n",
       "      buttonEl.style.display =\n",
       "        google.colab.kernel.accessAllowed ? 'block' : 'none';\n",
       "\n",
       "      async function convertToInteractive(key) {\n",
       "        const element = document.querySelector('#df-c3e5ad84-5fc2-4b13-b588-2353ef6f8ae7');\n",
       "        const dataTable =\n",
       "          await google.colab.kernel.invokeFunction('convertToInteractive',\n",
       "                                                    [key], {});\n",
       "        if (!dataTable) return;\n",
       "\n",
       "        const docLinkHtml = 'Like what you see? Visit the ' +\n",
       "          '<a target=\"_blank\" href=https://colab.research.google.com/notebooks/data_table.ipynb>data table notebook</a>'\n",
       "          + ' to learn more about interactive tables.';\n",
       "        element.innerHTML = '';\n",
       "        dataTable['output_type'] = 'display_data';\n",
       "        await google.colab.output.renderOutput(dataTable, element);\n",
       "        const docLink = document.createElement('div');\n",
       "        docLink.innerHTML = docLinkHtml;\n",
       "        element.appendChild(docLink);\n",
       "      }\n",
       "    </script>\n",
       "  </div>\n",
       "\n",
       "\n",
       "<div id=\"df-e877ac2a-bc0f-44dd-9b0c-a2acc8408c98\">\n",
       "  <button class=\"colab-df-quickchart\" onclick=\"quickchart('df-e877ac2a-bc0f-44dd-9b0c-a2acc8408c98')\"\n",
       "            title=\"Suggest charts\"\n",
       "            style=\"display:none;\">\n",
       "\n",
       "<svg xmlns=\"http://www.w3.org/2000/svg\" height=\"24px\"viewBox=\"0 0 24 24\"\n",
       "     width=\"24px\">\n",
       "    <g>\n",
       "        <path d=\"M19 3H5c-1.1 0-2 .9-2 2v14c0 1.1.9 2 2 2h14c1.1 0 2-.9 2-2V5c0-1.1-.9-2-2-2zM9 17H7v-7h2v7zm4 0h-2V7h2v10zm4 0h-2v-4h2v4z\"/>\n",
       "    </g>\n",
       "</svg>\n",
       "  </button>\n",
       "\n",
       "<style>\n",
       "  .colab-df-quickchart {\n",
       "      --bg-color: #E8F0FE;\n",
       "      --fill-color: #1967D2;\n",
       "      --hover-bg-color: #E2EBFA;\n",
       "      --hover-fill-color: #174EA6;\n",
       "      --disabled-fill-color: #AAA;\n",
       "      --disabled-bg-color: #DDD;\n",
       "  }\n",
       "\n",
       "  [theme=dark] .colab-df-quickchart {\n",
       "      --bg-color: #3B4455;\n",
       "      --fill-color: #D2E3FC;\n",
       "      --hover-bg-color: #434B5C;\n",
       "      --hover-fill-color: #FFFFFF;\n",
       "      --disabled-bg-color: #3B4455;\n",
       "      --disabled-fill-color: #666;\n",
       "  }\n",
       "\n",
       "  .colab-df-quickchart {\n",
       "    background-color: var(--bg-color);\n",
       "    border: none;\n",
       "    border-radius: 50%;\n",
       "    cursor: pointer;\n",
       "    display: none;\n",
       "    fill: var(--fill-color);\n",
       "    height: 32px;\n",
       "    padding: 0;\n",
       "    width: 32px;\n",
       "  }\n",
       "\n",
       "  .colab-df-quickchart:hover {\n",
       "    background-color: var(--hover-bg-color);\n",
       "    box-shadow: 0 1px 2px rgba(60, 64, 67, 0.3), 0 1px 3px 1px rgba(60, 64, 67, 0.15);\n",
       "    fill: var(--button-hover-fill-color);\n",
       "  }\n",
       "\n",
       "  .colab-df-quickchart-complete:disabled,\n",
       "  .colab-df-quickchart-complete:disabled:hover {\n",
       "    background-color: var(--disabled-bg-color);\n",
       "    fill: var(--disabled-fill-color);\n",
       "    box-shadow: none;\n",
       "  }\n",
       "\n",
       "  .colab-df-spinner {\n",
       "    border: 2px solid var(--fill-color);\n",
       "    border-color: transparent;\n",
       "    border-bottom-color: var(--fill-color);\n",
       "    animation:\n",
       "      spin 1s steps(1) infinite;\n",
       "  }\n",
       "\n",
       "  @keyframes spin {\n",
       "    0% {\n",
       "      border-color: transparent;\n",
       "      border-bottom-color: var(--fill-color);\n",
       "      border-left-color: var(--fill-color);\n",
       "    }\n",
       "    20% {\n",
       "      border-color: transparent;\n",
       "      border-left-color: var(--fill-color);\n",
       "      border-top-color: var(--fill-color);\n",
       "    }\n",
       "    30% {\n",
       "      border-color: transparent;\n",
       "      border-left-color: var(--fill-color);\n",
       "      border-top-color: var(--fill-color);\n",
       "      border-right-color: var(--fill-color);\n",
       "    }\n",
       "    40% {\n",
       "      border-color: transparent;\n",
       "      border-right-color: var(--fill-color);\n",
       "      border-top-color: var(--fill-color);\n",
       "    }\n",
       "    60% {\n",
       "      border-color: transparent;\n",
       "      border-right-color: var(--fill-color);\n",
       "    }\n",
       "    80% {\n",
       "      border-color: transparent;\n",
       "      border-right-color: var(--fill-color);\n",
       "      border-bottom-color: var(--fill-color);\n",
       "    }\n",
       "    90% {\n",
       "      border-color: transparent;\n",
       "      border-bottom-color: var(--fill-color);\n",
       "    }\n",
       "  }\n",
       "</style>\n",
       "\n",
       "  <script>\n",
       "    async function quickchart(key) {\n",
       "      const quickchartButtonEl =\n",
       "        document.querySelector('#' + key + ' button');\n",
       "      quickchartButtonEl.disabled = true;  // To prevent multiple clicks.\n",
       "      quickchartButtonEl.classList.add('colab-df-spinner');\n",
       "      try {\n",
       "        const charts = await google.colab.kernel.invokeFunction(\n",
       "            'suggestCharts', [key], {});\n",
       "      } catch (error) {\n",
       "        console.error('Error during call to suggestCharts:', error);\n",
       "      }\n",
       "      quickchartButtonEl.classList.remove('colab-df-spinner');\n",
       "      quickchartButtonEl.classList.add('colab-df-quickchart-complete');\n",
       "    }\n",
       "    (() => {\n",
       "      let quickchartButtonEl =\n",
       "        document.querySelector('#df-e877ac2a-bc0f-44dd-9b0c-a2acc8408c98 button');\n",
       "      quickchartButtonEl.style.display =\n",
       "        google.colab.kernel.accessAllowed ? 'block' : 'none';\n",
       "    })();\n",
       "  </script>\n",
       "</div>\n",
       "    </div>\n",
       "  </div>\n"
      ],
      "text/plain": [
       "   Hours  Scores\n",
       "0    2.5      21\n",
       "1    5.1      47\n",
       "2    3.2      27\n",
       "3    8.5      75\n",
       "4    3.5      30"
      ]
     },
     "execution_count": 114,
     "metadata": {},
     "output_type": "execute_result"
    }
   ],
   "source": [
    "df = pd.read_csv('Student Study Hour V2.csv');\n",
    "df.head(5)"
   ]
  },
  {
   "cell_type": "code",
   "execution_count": 115,
   "metadata": {
    "colab": {
     "base_uri": "https://localhost:8080/",
     "height": 542
    },
    "executionInfo": {
     "elapsed": 548,
     "status": "ok",
     "timestamp": 1724766930306,
     "user": {
      "displayName": "Zeljko Stojkovic",
      "userId": "05844160719545318254"
     },
     "user_tz": -120
    },
    "id": "5pLafWeoWfUp",
    "outputId": "13b067f6-e677-47ac-9ff9-beee7628792d"
   },
   "outputs": [
    {
     "data": {
      "image/png": "[encoded data removed]",
      "text/plain": [
       "<Figure size 1000x600 with 1 Axes>"
      ]
     },
     "metadata": {},
     "output_type": "display_data"
    }
   ],
   "source": [
    "# Plot the data\n",
    "plt.figure(figsize=(10, 6))\n",
    "plt.scatter(df['Hours'], df['Scores'])\n",
    "plt.xlabel('Study Hours')\n",
    "plt.ylabel('Scores')\n",
    "plt.show()"
   ]
  },
  {
   "cell_type": "code",
   "execution_count": 116,
   "metadata": {
    "executionInfo": {
     "elapsed": 3,
     "status": "ok",
     "timestamp": 1724766930306,
     "user": {
      "displayName": "Zeljko Stojkovic",
      "userId": "05844160719545318254"
     },
     "user_tz": -120
    },
    "id": "C6P7OZ0WXQlz"
   },
   "outputs": [],
   "source": [
    "# b) Compute Cost Function\n",
    "\n",
    "def compute_cost(m, b, points):\n",
    "    total_error = 0\n",
    "    n = len(points)\n",
    "\n",
    "    for i in range(n):\n",
    "        x = points.iloc[i].Hours\n",
    "        y = points.iloc[i].Scores\n",
    "        total_error += (y - (m * x + b)) ** 2\n",
    "\n",
    "    # mean squared error\n",
    "    mse = total_error / float(len(points))\n",
    "    return mse"
   ]
  },
  {
   "cell_type": "code",
   "execution_count": 117,
   "metadata": {
    "executionInfo": {
     "elapsed": 2,
     "status": "ok",
     "timestamp": 1724766930306,
     "user": {
      "displayName": "Zeljko Stojkovic",
      "userId": "05844160719545318254"
     },
     "user_tz": -120
    },
    "id": "qBljtjnrZJLb"
   },
   "outputs": [],
   "source": [
    "# c) Make a function that run gradient descent\n",
    "\n",
    "# For each point, we calculate how far our line y = mx + b is away from actual value\n",
    "# After we use these differences to calculate how to change m and b.\n",
    "def gradient_descent(m_now, b_now, points, L):\n",
    "\n",
    "  # direction in which we need to change slope of line (weight)\n",
    "  m_gradient = 0\n",
    "  # direction in which we need to change y-intercept (bias)\n",
    "  b_gradient = 0\n",
    "\n",
    "  n = len(points)\n",
    "\n",
    "  for i in range(n):\n",
    "      x = points.iloc[i].Hours\n",
    "      y = points.iloc[i].Scores\n",
    "\n",
    "      m_gradient += (-2/n) * x * (y - (m_now * x + b_now))\n",
    "      b_gradient += (-2/n) * (y - (m_now * x + b_now))\n",
    "\n",
    "  # update m and b using the calculated gradients and learning rate, move in the opposite direction of the gradient to minimize error\n",
    "  m = m_now - m_gradient * L\n",
    "  b = b_now - b_gradient * L\n",
    "\n",
    "  return m,b"
   ]
  },
  {
   "cell_type": "code",
   "execution_count": 118,
   "metadata": {
    "colab": {
     "base_uri": "https://localhost:8080/"
    },
    "executionInfo": {
     "elapsed": 3007,
     "status": "ok",
     "timestamp": 1724766933311,
     "user": {
      "displayName": "Zeljko Stojkovic",
      "userId": "05844160719545318254"
     },
     "user_tz": -120
    },
    "id": "f2I9BVyDWs1q",
    "outputId": "1eef7966-2278-41fe-d8c5-4c56d839d7bf"
   },
   "outputs": [
    {
     "name": "stdout",
     "output_type": "stream",
     "text": [
      "9.902246157999524 1.6960412088970342\n"
     ]
    }
   ],
   "source": [
    "m = 0\n",
    "b = 0\n",
    "L = 0.0001\n",
    "epochs = 1000\n",
    "\n",
    "for i in range(epochs):\n",
    "  m,b = gradient_descent(m, b, df, L)\n",
    "\n",
    "print(m, b)"
   ]
  },
  {
   "cell_type": "code",
   "execution_count": 119,
   "metadata": {
    "colab": {
     "base_uri": "https://localhost:8080/",
     "height": 449
    },
    "executionInfo": {
     "elapsed": 5,
     "status": "ok",
     "timestamp": 1724766933311,
     "user": {
      "displayName": "Zeljko Stojkovic",
      "userId": "05844160719545318254"
     },
     "user_tz": -120
    },
    "id": "veok9guuX51w",
    "outputId": "bc07438f-6203-4c69-b168-98172d084831"
   },
   "outputs": [
    {
     "data": {
      "image/png": "[encoded data removed]",
      "text/plain": [
       "<Figure size 640x480 with 1 Axes>"
      ]
     },
     "metadata": {},
     "output_type": "display_data"
    }
   ],
   "source": [
    "plt.scatter(df.Hours, df.Scores, color=\"black\")\n",
    "plt.plot(df.Hours, [m * x + b for x in df.Hours], color=\"red\")\n",
    "plt.xlabel('Hours')\n",
    "plt.ylabel('Scores')\n",
    "plt.show()"
   ]
  },
  {
   "cell_type": "markdown",
   "metadata": {
    "id": "KiOJSFg5mPI4"
   },
   "source": [
    "### **1.2. Linear Regression (Multivariate)**"
   ]
  },
  {
   "cell_type": "markdown",
   "metadata": {
    "id": "N0q8ZXiimSMq"
   },
   "source": []
  },
  {
   "cell_type": "code",
   "execution_count": 120,
   "metadata": {
    "executionInfo": {
     "elapsed": 3,
     "status": "ok",
     "timestamp": 1724766933311,
     "user": {
      "displayName": "Zeljko Stojkovic",
      "userId": "05844160719545318254"
     },
     "user_tz": -120
    },
    "id": "zZyMlaA2X54g"
   },
   "outputs": [],
   "source": [
    "df = pd.read_csv('Housing.csv')"
   ]
  },
  {
   "cell_type": "code",
   "execution_count": 121,
   "metadata": {
    "colab": {
     "base_uri": "https://localhost:8080/",
     "height": 206
    },
    "executionInfo": {
     "elapsed": 298,
     "status": "ok",
     "timestamp": 1724766933606,
     "user": {
      "displayName": "Zeljko Stojkovic",
      "userId": "05844160719545318254"
     },
     "user_tz": -120
    },
    "id": "kggIdLQqX57h",
    "outputId": "c24cd47d-bd63-4d08-caaf-6259ab44f85c"
   },
   "outputs": [
    {
     "data": {
      "application/vnd.google.colaboratory.intrinsic+json": {
       "summary": "{\n  \"name\": \"df\",\n  \"rows\": 545,\n  \"fields\": [\n    {\n      \"column\": \"price\",\n      \"properties\": {\n        \"dtype\": \"number\",\n        \"std\": 1870439,\n        \"min\": 1750000,\n        \"max\": 13300000,\n        \"num_unique_values\": 219,\n        \"samples\": [\n          3773000,\n          5285000,\n          1820000\n        ],\n        \"semantic_type\": \"\",\n        \"description\": \"\"\n      }\n    },\n    {\n      \"column\": \"area\",\n      \"properties\": {\n        \"dtype\": \"number\",\n        \"std\": 2170,\n        \"min\": 1650,\n        \"max\": 16200,\n        \"num_unique_values\": 284,\n        \"samples\": [\n          6000,\n          2684,\n          5360\n        ],\n        \"semantic_type\": \"\",\n        \"description\": \"\"\n      }\n    },\n    {\n      \"column\": \"bedrooms\",\n      \"properties\": {\n        \"dtype\": \"number\",\n        \"std\": 0,\n        \"min\": 1,\n        \"max\": 6,\n        \"num_unique_values\": 6,\n        \"samples\": [\n          4,\n          3,\n          1\n        ],\n        \"semantic_type\": \"\",\n        \"description\": \"\"\n      }\n    },\n    {\n      \"column\": \"bathrooms\",\n      \"properties\": {\n        \"dtype\": \"number\",\n        \"std\": 0,\n        \"min\": 1,\n        \"max\": 4,\n        \"num_unique_values\": 4,\n        \"samples\": [\n          4,\n          3,\n          2\n        ],\n        \"semantic_type\": \"\",\n        \"description\": \"\"\n      }\n    },\n    {\n      \"column\": \"stories\",\n      \"properties\": {\n        \"dtype\": \"number\",\n        \"std\": 0,\n        \"min\": 1,\n        \"max\": 4,\n        \"num_unique_values\": 4,\n        \"samples\": [\n          4,\n          1,\n          3\n        ],\n        \"semantic_type\": \"\",\n        \"description\": \"\"\n      }\n    },\n    {\n      \"column\": \"mainroad\",\n      \"properties\": {\n        \"dtype\": \"category\",\n        \"num_unique_values\": 2,\n        \"samples\": [\n          \"no\",\n          \"yes\"\n        ],\n        \"semantic_type\": \"\",\n        \"description\": \"\"\n      }\n    },\n    {\n      \"column\": \"guestroom\",\n      \"properties\": {\n        \"dtype\": \"category\",\n        \"num_unique_values\": 2,\n        \"samples\": [\n          \"yes\",\n          \"no\"\n        ],\n        \"semantic_type\": \"\",\n        \"description\": \"\"\n      }\n    },\n    {\n      \"column\": \"basement\",\n      \"properties\": {\n        \"dtype\": \"category\",\n        \"num_unique_values\": 2,\n        \"samples\": [\n          \"yes\",\n          \"no\"\n        ],\n        \"semantic_type\": \"\",\n        \"description\": \"\"\n      }\n    },\n    {\n      \"column\": \"hotwaterheating\",\n      \"properties\": {\n        \"dtype\": \"category\",\n        \"num_unique_values\": 2,\n        \"samples\": [\n          \"yes\",\n          \"no\"\n        ],\n        \"semantic_type\": \"\",\n        \"description\": \"\"\n      }\n    },\n    {\n      \"column\": \"airconditioning\",\n      \"properties\": {\n        \"dtype\": \"category\",\n        \"num_unique_values\": 2,\n        \"samples\": [\n          \"no\",\n          \"yes\"\n        ],\n        \"semantic_type\": \"\",\n        \"description\": \"\"\n      }\n    },\n    {\n      \"column\": \"parking\",\n      \"properties\": {\n        \"dtype\": \"number\",\n        \"std\": 0,\n        \"min\": 0,\n        \"max\": 3,\n        \"num_unique_values\": 4,\n        \"samples\": [\n          3,\n          1\n        ],\n        \"semantic_type\": \"\",\n        \"description\": \"\"\n      }\n    },\n    {\n      \"column\": \"prefarea\",\n      \"properties\": {\n        \"dtype\": \"category\",\n        \"num_unique_values\": 2,\n        \"samples\": [\n          \"no\",\n          \"yes\"\n        ],\n        \"semantic_type\": \"\",\n        \"description\": \"\"\n      }\n    },\n    {\n      \"column\": \"furnishingstatus\",\n      \"properties\": {\n        \"dtype\": \"category\",\n        \"num_unique_values\": 3,\n        \"samples\": [\n          \"furnished\",\n          \"semi-furnished\"\n        ],\n        \"semantic_type\": \"\",\n        \"description\": \"\"\n      }\n    }\n  ]\n}",
       "type": "dataframe",
       "variable_name": "df"
      },
      "text/html": [
       "\n",
       "  <div id=\"df-551c45f3-1f7c-47df-8fa2-32492ae1c963\" class=\"colab-df-container\">\n",
       "    <div>\n",
       "<style scoped>\n",
       "    .dataframe tbody tr th:only-of-type {\n",
       "        vertical-align: middle;\n",
       "    }\n",
       "\n",
       "    .dataframe tbody tr th {\n",
       "        vertical-align: top;\n",
       "    }\n",
       "\n",
       "    .dataframe thead th {\n",
       "        text-align: right;\n",
       "    }\n",
       "</style>\n",
       "<table border=\"1\" class=\"dataframe\">\n",
       "  <thead>\n",
       "    <tr style=\"text-align: right;\">\n",
       "      <th></th>\n",
       "      <th>price</th>\n",
       "      <th>area</th>\n",
       "      <th>bedrooms</th>\n",
       "      <th>bathrooms</th>\n",
       "      <th>stories</th>\n",
       "      <th>mainroad</th>\n",
       "      <th>guestroom</th>\n",
       "      <th>basement</th>\n",
       "      <th>hotwaterheating</th>\n",
       "      <th>airconditioning</th>\n",
       "      <th>parking</th>\n",
       "      <th>prefarea</th>\n",
       "      <th>furnishingstatus</th>\n",
       "    </tr>\n",
       "  </thead>\n",
       "  <tbody>\n",
       "    <tr>\n",
       "      <th>0</th>\n",
       "      <td>13300000</td>\n",
       "      <td>7420</td>\n",
       "      <td>4</td>\n",
       "      <td>2</td>\n",
       "      <td>3</td>\n",
       "      <td>yes</td>\n",
       "      <td>no</td>\n",
       "      <td>no</td>\n",
       "      <td>no</td>\n",
       "      <td>yes</td>\n",
       "      <td>2</td>\n",
       "      <td>yes</td>\n",
       "      <td>furnished</td>\n",
       "    </tr>\n",
       "    <tr>\n",
       "      <th>1</th>\n",
       "      <td>12250000</td>\n",
       "      <td>8960</td>\n",
       "      <td>4</td>\n",
       "      <td>4</td>\n",
       "      <td>4</td>\n",
       "      <td>yes</td>\n",
       "      <td>no</td>\n",
       "      <td>no</td>\n",
       "      <td>no</td>\n",
       "      <td>yes</td>\n",
       "      <td>3</td>\n",
       "      <td>no</td>\n",
       "      <td>furnished</td>\n",
       "    </tr>\n",
       "    <tr>\n",
       "      <th>2</th>\n",
       "      <td>12250000</td>\n",
       "      <td>9960</td>\n",
       "      <td>3</td>\n",
       "      <td>2</td>\n",
       "      <td>2</td>\n",
       "      <td>yes</td>\n",
       "      <td>no</td>\n",
       "      <td>yes</td>\n",
       "      <td>no</td>\n",
       "      <td>no</td>\n",
       "      <td>2</td>\n",
       "      <td>yes</td>\n",
       "      <td>semi-furnished</td>\n",
       "    </tr>\n",
       "    <tr>\n",
       "      <th>3</th>\n",
       "      <td>12215000</td>\n",
       "      <td>7500</td>\n",
       "      <td>4</td>\n",
       "      <td>2</td>\n",
       "      <td>2</td>\n",
       "      <td>yes</td>\n",
       "      <td>no</td>\n",
       "      <td>yes</td>\n",
       "      <td>no</td>\n",
       "      <td>yes</td>\n",
       "      <td>3</td>\n",
       "      <td>yes</td>\n",
       "      <td>furnished</td>\n",
       "    </tr>\n",
       "    <tr>\n",
       "      <th>4</th>\n",
       "      <td>11410000</td>\n",
       "      <td>7420</td>\n",
       "      <td>4</td>\n",
       "      <td>1</td>\n",
       "      <td>2</td>\n",
       "      <td>yes</td>\n",
       "      <td>yes</td>\n",
       "      <td>yes</td>\n",
       "      <td>no</td>\n",
       "      <td>yes</td>\n",
       "      <td>2</td>\n",
       "      <td>no</td>\n",
       "      <td>furnished</td>\n",
       "    </tr>\n",
       "  </tbody>\n",
       "</table>\n",
       "</div>\n",
       "    <div class=\"colab-df-buttons\">\n",
       "\n",
       "  <div class=\"colab-df-container\">\n",
       "    <button class=\"colab-df-convert\" onclick=\"convertToInteractive('df-551c45f3-1f7c-47df-8fa2-32492ae1c963')\"\n",
       "            title=\"Convert this dataframe to an interactive table.\"\n",
       "            style=\"display:none;\">\n",
       "\n",
       "  <svg xmlns=\"http://www.w3.org/2000/svg\" height=\"24px\" viewBox=\"0 -960 960 960\">\n",
       "    <path d=\"M120-120v-720h720v720H120Zm60-500h600v-160H180v160Zm220 220h160v-160H400v160Zm0 220h160v-160H400v160ZM180-400h160v-160H180v160Zm440 0h160v-160H620v160ZM180-180h160v-160H180v160Zm440 0h160v-160H620v160Z\"/>\n",
       "  </svg>\n",
       "    </button>\n",
       "\n",
       "  <style>\n",
       "    .colab-df-container {\n",
       "      display:flex;\n",
       "      gap: 12px;\n",
       "    }\n",
       "\n",
       "    .colab-df-convert {\n",
       "      background-color: #E8F0FE;\n",
       "      border: none;\n",
       "      border-radius: 50%;\n",
       "      cursor: pointer;\n",
       "      display: none;\n",
       "      fill: #1967D2;\n",
       "      height: 32px;\n",
       "      padding: 0 0 0 0;\n",
       "      width: 32px;\n",
       "    }\n",
       "\n",
       "    .colab-df-convert:hover {\n",
       "      background-color: #E2EBFA;\n",
       "      box-shadow: 0px 1px 2px rgba(60, 64, 67, 0.3), 0px 1px 3px 1px rgba(60, 64, 67, 0.15);\n",
       "      fill: #174EA6;\n",
       "    }\n",
       "\n",
       "    .colab-df-buttons div {\n",
       "      margin-bottom: 4px;\n",
       "    }\n",
       "\n",
       "    [theme=dark] .colab-df-convert {\n",
       "      background-color: #3B4455;\n",
       "      fill: #D2E3FC;\n",
       "    }\n",
       "\n",
       "    [theme=dark] .colab-df-convert:hover {\n",
       "      background-color: #434B5C;\n",
       "      box-shadow: 0px 1px 3px 1px rgba(0, 0, 0, 0.15);\n",
       "      filter: drop-shadow(0px 1px 2px rgba(0, 0, 0, 0.3));\n",
       "      fill: #FFFFFF;\n",
       "    }\n",
       "  </style>\n",
       "\n",
       "    <script>\n",
       "      const buttonEl =\n",
       "        document.querySelector('#df-551c45f3-1f7c-47df-8fa2-32492ae1c963 button.colab-df-convert');\n",
       "      buttonEl.style.display =\n",
       "        google.colab.kernel.accessAllowed ? 'block' : 'none';\n",
       "\n",
       "      async function convertToInteractive(key) {\n",
       "        const element = document.querySelector('#df-551c45f3-1f7c-47df-8fa2-32492ae1c963');\n",
       "        const dataTable =\n",
       "          await google.colab.kernel.invokeFunction('convertToInteractive',\n",
       "                                                    [key], {});\n",
       "        if (!dataTable) return;\n",
       "\n",
       "        const docLinkHtml = 'Like what you see? Visit the ' +\n",
       "          '<a target=\"_blank\" href=https://colab.research.google.com/notebooks/data_table.ipynb>data table notebook</a>'\n",
       "          + ' to learn more about interactive tables.';\n",
       "        element.innerHTML = '';\n",
       "        dataTable['output_type'] = 'display_data';\n",
       "        await google.colab.output.renderOutput(dataTable, element);\n",
       "        const docLink = document.createElement('div');\n",
       "        docLink.innerHTML = docLinkHtml;\n",
       "        element.appendChild(docLink);\n",
       "      }\n",
       "    </script>\n",
       "  </div>\n",
       "\n",
       "\n",
       "<div id=\"df-7078ad01-bc82-4302-a8a0-3f84fcd5b5ff\">\n",
       "  <button class=\"colab-df-quickchart\" onclick=\"quickchart('df-7078ad01-bc82-4302-a8a0-3f84fcd5b5ff')\"\n",
       "            title=\"Suggest charts\"\n",
       "            style=\"display:none;\">\n",
       "\n",
       "<svg xmlns=\"http://www.w3.org/2000/svg\" height=\"24px\"viewBox=\"0 0 24 24\"\n",
       "     width=\"24px\">\n",
       "    <g>\n",
       "        <path d=\"M19 3H5c-1.1 0-2 .9-2 2v14c0 1.1.9 2 2 2h14c1.1 0 2-.9 2-2V5c0-1.1-.9-2-2-2zM9 17H7v-7h2v7zm4 0h-2V7h2v10zm4 0h-2v-4h2v4z\"/>\n",
       "    </g>\n",
       "</svg>\n",
       "  </button>\n",
       "\n",
       "<style>\n",
       "  .colab-df-quickchart {\n",
       "      --bg-color: #E8F0FE;\n",
       "      --fill-color: #1967D2;\n",
       "      --hover-bg-color: #E2EBFA;\n",
       "      --hover-fill-color: #174EA6;\n",
       "      --disabled-fill-color: #AAA;\n",
       "      --disabled-bg-color: #DDD;\n",
       "  }\n",
       "\n",
       "  [theme=dark] .colab-df-quickchart {\n",
       "      --bg-color: #3B4455;\n",
       "      --fill-color: #D2E3FC;\n",
       "      --hover-bg-color: #434B5C;\n",
       "      --hover-fill-color: #FFFFFF;\n",
       "      --disabled-bg-color: #3B4455;\n",
       "      --disabled-fill-color: #666;\n",
       "  }\n",
       "\n",
       "  .colab-df-quickchart {\n",
       "    background-color: var(--bg-color);\n",
       "    border: none;\n",
       "    border-radius: 50%;\n",
       "    cursor: pointer;\n",
       "    display: none;\n",
       "    fill: var(--fill-color);\n",
       "    height: 32px;\n",
       "    padding: 0;\n",
       "    width: 32px;\n",
       "  }\n",
       "\n",
       "  .colab-df-quickchart:hover {\n",
       "    background-color: var(--hover-bg-color);\n",
       "    box-shadow: 0 1px 2px rgba(60, 64, 67, 0.3), 0 1px 3px 1px rgba(60, 64, 67, 0.15);\n",
       "    fill: var(--button-hover-fill-color);\n",
       "  }\n",
       "\n",
       "  .colab-df-quickchart-complete:disabled,\n",
       "  .colab-df-quickchart-complete:disabled:hover {\n",
       "    background-color: var(--disabled-bg-color);\n",
       "    fill: var(--disabled-fill-color);\n",
       "    box-shadow: none;\n",
       "  }\n",
       "\n",
       "  .colab-df-spinner {\n",
       "    border: 2px solid var(--fill-color);\n",
       "    border-color: transparent;\n",
       "    border-bottom-color: var(--fill-color);\n",
       "    animation:\n",
       "      spin 1s steps(1) infinite;\n",
       "  }\n",
       "\n",
       "  @keyframes spin {\n",
       "    0% {\n",
       "      border-color: transparent;\n",
       "      border-bottom-color: var(--fill-color);\n",
       "      border-left-color: var(--fill-color);\n",
       "    }\n",
       "    20% {\n",
       "      border-color: transparent;\n",
       "      border-left-color: var(--fill-color);\n",
       "      border-top-color: var(--fill-color);\n",
       "    }\n",
       "    30% {\n",
       "      border-color: transparent;\n",
       "      border-left-color: var(--fill-color);\n",
       "      border-top-color: var(--fill-color);\n",
       "      border-right-color: var(--fill-color);\n",
       "    }\n",
       "    40% {\n",
       "      border-color: transparent;\n",
       "      border-right-color: var(--fill-color);\n",
       "      border-top-color: var(--fill-color);\n",
       "    }\n",
       "    60% {\n",
       "      border-color: transparent;\n",
       "      border-right-color: var(--fill-color);\n",
       "    }\n",
       "    80% {\n",
       "      border-color: transparent;\n",
       "      border-right-color: var(--fill-color);\n",
       "      border-bottom-color: var(--fill-color);\n",
       "    }\n",
       "    90% {\n",
       "      border-color: transparent;\n",
       "      border-bottom-color: var(--fill-color);\n",
       "    }\n",
       "  }\n",
       "</style>\n",
       "\n",
       "  <script>\n",
       "    async function quickchart(key) {\n",
       "      const quickchartButtonEl =\n",
       "        document.querySelector('#' + key + ' button');\n",
       "      quickchartButtonEl.disabled = true;  // To prevent multiple clicks.\n",
       "      quickchartButtonEl.classList.add('colab-df-spinner');\n",
       "      try {\n",
       "        const charts = await google.colab.kernel.invokeFunction(\n",
       "            'suggestCharts', [key], {});\n",
       "      } catch (error) {\n",
       "        console.error('Error during call to suggestCharts:', error);\n",
       "      }\n",
       "      quickchartButtonEl.classList.remove('colab-df-spinner');\n",
       "      quickchartButtonEl.classList.add('colab-df-quickchart-complete');\n",
       "    }\n",
       "    (() => {\n",
       "      let quickchartButtonEl =\n",
       "        document.querySelector('#df-7078ad01-bc82-4302-a8a0-3f84fcd5b5ff button');\n",
       "      quickchartButtonEl.style.display =\n",
       "        google.colab.kernel.accessAllowed ? 'block' : 'none';\n",
       "    })();\n",
       "  </script>\n",
       "</div>\n",
       "    </div>\n",
       "  </div>\n"
      ],
      "text/plain": [
       "      price  area  bedrooms  bathrooms  stories mainroad guestroom basement  \\\n",
       "0  13300000  7420         4          2        3      yes        no       no   \n",
       "1  12250000  8960         4          4        4      yes        no       no   \n",
       "2  12250000  9960         3          2        2      yes        no      yes   \n",
       "3  12215000  7500         4          2        2      yes        no      yes   \n",
       "4  11410000  7420         4          1        2      yes       yes      yes   \n",
       "\n",
       "  hotwaterheating airconditioning  parking prefarea furnishingstatus  \n",
       "0              no             yes        2      yes        furnished  \n",
       "1              no             yes        3       no        furnished  \n",
       "2              no              no        2      yes   semi-furnished  \n",
       "3              no             yes        3      yes        furnished  \n",
       "4              no             yes        2       no        furnished  "
      ]
     },
     "execution_count": 121,
     "metadata": {},
     "output_type": "execute_result"
    }
   ],
   "source": [
    "df.head(5)"
   ]
  },
  {
   "cell_type": "code",
   "execution_count": 122,
   "metadata": {
    "colab": {
     "base_uri": "https://localhost:8080/",
     "height": 1000
    },
    "collapsed": true,
    "executionInfo": {
     "elapsed": 2124,
     "status": "ok",
     "timestamp": 1724766935727,
     "user": {
      "displayName": "Zeljko Stojkovic",
      "userId": "05844160719545318254"
     },
     "user_tz": -120
    },
    "id": "JuUqONauX5-b",
    "jupyter": {
     "outputs_hidden": true
    },
    "outputId": "1f5921b6-418f-4bca-b67d-9b1793af6e1c"
   },
   "outputs": [
    {
     "data": {
      "text/plain": [
       "array([[<Axes: title={'center': 'price'}>,\n",
       "        <Axes: title={'center': 'area'}>],\n",
       "       [<Axes: title={'center': 'bedrooms'}>,\n",
       "        <Axes: title={'center': 'bathrooms'}>],\n",
       "       [<Axes: title={'center': 'stories'}>,\n",
       "        <Axes: title={'center': 'parking'}>]], dtype=object)"
      ]
     },
     "execution_count": 122,
     "metadata": {},
     "output_type": "execute_result"
    },
    {
     "data": {
      "image/png": "[encoded data removed]",
      "text/plain": [
       "<Figure size 1500x1500 with 6 Axes>"
      ]
     },
     "metadata": {},
     "output_type": "display_data"
    }
   ],
   "source": [
    "df.hist(bins=50, figsize=(15,15))"
   ]
  },
  {
   "cell_type": "code",
   "execution_count": 123,
   "metadata": {
    "colab": {
     "base_uri": "https://localhost:8080/"
    },
    "executionInfo": {
     "elapsed": 4,
     "status": "ok",
     "timestamp": 1724766935728,
     "user": {
      "displayName": "Zeljko Stojkovic",
      "userId": "05844160719545318254"
     },
     "user_tz": -120
    },
    "id": "EL7LXqvHX6BD",
    "outputId": "a90d13f9-b3c2-40aa-ae3f-49c48ced02bc"
   },
   "outputs": [
    {
     "data": {
      "text/plain": [
       "(545, 13)"
      ]
     },
     "execution_count": 123,
     "metadata": {},
     "output_type": "execute_result"
    }
   ],
   "source": [
    "df.shape"
   ]
  },
  {
   "cell_type": "code",
   "execution_count": 124,
   "metadata": {
    "executionInfo": {
     "elapsed": 3,
     "status": "ok",
     "timestamp": 1724766935728,
     "user": {
      "displayName": "Zeljko Stojkovic",
      "userId": "05844160719545318254"
     },
     "user_tz": -120
    },
    "id": "HmQCKHU3-NG_"
   },
   "outputs": [],
   "source": [
    "X = df[['area', 'bedrooms', 'bathrooms', 'stories', 'parking']].values\n",
    "y = df['price'].values"
   ]
  },
  {
   "cell_type": "code",
   "execution_count": 125,
   "metadata": {
    "executionInfo": {
     "elapsed": 3,
     "status": "ok",
     "timestamp": 1724766935728,
     "user": {
      "displayName": "Zeljko Stojkovic",
      "userId": "05844160719545318254"
     },
     "user_tz": -120
    },
    "id": "rbpBqypTBZZy"
   },
   "outputs": [],
   "source": [
    "def transpose(M):\n",
    "    N = []\n",
    "    for j in range(len(M[0])): # over rows\n",
    "        U = []\n",
    "        for i in range(len(M)): # over col\n",
    "            U.append(M[i][j])\n",
    "        N.append(U)\n",
    "\n",
    "    return N"
   ]
  },
  {
   "cell_type": "code",
   "execution_count": 126,
   "metadata": {
    "executionInfo": {
     "elapsed": 3,
     "status": "ok",
     "timestamp": 1724766935728,
     "user": {
      "displayName": "Zeljko Stojkovic",
      "userId": "05844160719545318254"
     },
     "user_tz": -120
    },
    "id": "tSrtixGlCKW6"
   },
   "outputs": [],
   "source": [
    "# f) Do the feature normalization\n",
    "m, n = X.shape\n",
    "mean = np.zeros(n)\n",
    "std = np.zeros(n)\n",
    "\n",
    "for i in range(n):\n",
    "    mean[i] = np.mean(X[:, i])\n",
    "    std[i] = np.std(X[:, i])\n",
    "    for j in range(m):\n",
    "        X[j, i] = (X[j, i] - mean[i]) / std[i]"
   ]
  },
  {
   "cell_type": "code",
   "execution_count": 127,
   "metadata": {
    "executionInfo": {
     "elapsed": 3,
     "status": "ok",
     "timestamp": 1724766935728,
     "user": {
      "displayName": "Zeljko Stojkovic",
      "userId": "05844160719545318254"
     },
     "user_tz": -120
    },
    "id": "WXWkn3j2C0Lt"
   },
   "outputs": [],
   "source": [
    "# d) Compute Cost Function for multivariate Linear Regression\n",
    "def compute_cost(X, y, W):\n",
    "    m = len(y)\n",
    "    y_estimated = X.dot(W)\n",
    "    error = y_estimated - y\n",
    "    cost = (1 / (2 * m)) * np.sum(error ** 2)\n",
    "    return cost"
   ]
  },
  {
   "cell_type": "code",
   "execution_count": 128,
   "metadata": {
    "executionInfo": {
     "elapsed": 3,
     "status": "ok",
     "timestamp": 1724766935728,
     "user": {
      "displayName": "Zeljko Stojkovic",
      "userId": "05844160719545318254"
     },
     "user_tz": -120
    },
    "id": "6vXQx6lr_BfE"
   },
   "outputs": [],
   "source": [
    "# e) Compute Cost for multivariate Gradient Descent\n",
    "def gradient_descent(X, y, L=0.01, epochs=2000):\n",
    "    m, n = X.shape\n",
    "    X = np.column_stack((np.ones((m, 1)), X))\n",
    "    W = np.random.randn(n + 1)\n",
    "\n",
    "    cost_history_list = []\n",
    "\n",
    "    for current_iteration in range(epochs):\n",
    "        y_estimated = X.dot(W)\n",
    "        error = y_estimated - y\n",
    "        cost = compute_cost(X, y, W)\n",
    "        gradient = (1 / m) * X.T.dot(error)\n",
    "        W = W - L * gradient\n",
    "\n",
    "        if current_iteration % 100 == 0:\n",
    "            print(f\"cost:{cost:.6f} \\t iteration: {current_iteration}\")\n",
    "\n",
    "        cost_history_list.append(cost)\n",
    "\n",
    "    return W, cost_history_list"
   ]
  },
  {
   "cell_type": "code",
   "execution_count": 129,
   "metadata": {
    "colab": {
     "base_uri": "https://localhost:8080/",
     "height": 819
    },
    "executionInfo": {
     "elapsed": 442,
     "status": "ok",
     "timestamp": 1724766936167,
     "user": {
      "displayName": "Zeljko Stojkovic",
      "userId": "05844160719545318254"
     },
     "user_tz": -120
    },
    "id": "hHczyvdiCp6I",
    "outputId": "5ad07c6c-b9d7-4ddd-f360-95b2e52066a8"
   },
   "outputs": [
    {
     "name": "stdout",
     "output_type": "stream",
     "text": [
      "cost:13106908992203.035156 \t iteration: 0\n",
      "cost:1830749067984.826660 \t iteration: 100\n",
      "cost:1029024582348.543945 \t iteration: 200\n",
      "cost:954886929939.112183 \t iteration: 300\n",
      "cost:938706414563.674683 \t iteration: 400\n",
      "cost:930953566326.706177 \t iteration: 500\n",
      "cost:926317395739.770386 \t iteration: 600\n",
      "cost:923413061814.968994 \t iteration: 700\n",
      "cost:921563483930.655762 \t iteration: 800\n",
      "cost:920374087613.910400 \t iteration: 900\n",
      "cost:919603645663.092651 \t iteration: 1000\n",
      "cost:919101576704.257446 \t iteration: 1100\n",
      "cost:918772686683.711792 \t iteration: 1200\n",
      "cost:918556241489.086426 \t iteration: 1300\n",
      "cost:918413204655.885254 \t iteration: 1400\n",
      "cost:918318325590.226440 \t iteration: 1500\n",
      "cost:918255178401.697021 \t iteration: 1600\n",
      "cost:918213023102.983765 \t iteration: 1700\n",
      "cost:918184804768.018555 \t iteration: 1800\n",
      "cost:918165869551.482666 \t iteration: 1900\n"
     ]
    },
    {
     "data": {
      "image/png": "[encoded data removed]",
      "text/plain": [
       "<Figure size 640x480 with 1 Axes>"
      ]
     },
     "metadata": {},
     "output_type": "display_data"
    }
   ],
   "source": [
    "weight, cost_history_list = gradient_descent(X, y, L=0.01, epochs=2000)\n",
    "\n",
    "plt.plot(np.arange(len(cost_history_list)), cost_history_list)\n",
    "plt.xlabel(\"Number of iterations (Epochs)\")\n",
    "plt.ylabel(\"Cost function  J(Θ)\")\n",
    "plt.title(\"Gradient Descent\")\n",
    "plt.show()"
   ]
  },
  {
   "cell_type": "markdown",
   "metadata": {
    "id": "Ed9yGFNM8N4A"
   },
   "source": [
    "## **3) Neural Networks**"
   ]
  },
  {
   "cell_type": "code",
   "execution_count": 130,
   "metadata": {
    "executionInfo": {
     "elapsed": 4,
     "status": "ok",
     "timestamp": 1724766936167,
     "user": {
      "displayName": "Zeljko Stojkovic",
      "userId": "05844160719545318254"
     },
     "user_tz": -120
    },
    "id": "dAwdGP3o7LfH"
   },
   "outputs": [],
   "source": [
    "# b) Randomly initialize weights\n",
    "def initialzie_network(inputNum, hiddenNum, outputNum):\n",
    "  network = list()\n",
    "\n",
    "  hidden_layer = [{'weights': [random() for i in range(inputNum + 1)]} for i in range(hiddenNum)]\n",
    "  network.append(hidden_layer)\n",
    "  output_layer = [{'weights': [random() for i in range(hiddenNum + 1)]} for i in range(outputNum)]\n",
    "  network.append(output_layer)\n",
    "\n",
    "  return network"
   ]
  },
  {
   "cell_type": "markdown",
   "metadata": {
    "id": "C1UP5nLcvtH9"
   },
   "source": [
    "### Sigmoid function\n",
    "\n",
    "The sigmoid function, also known as the logistic function, is a mathematical function that maps any real-valued number to a value between 0 and 1. It has an S-shaped curve. In neural networks it's often used as an activation function in hidden layers and output layers.\n",
    "\n",
    "\n",
    "`$$ \\ f(z) = \\frac{1}{1 + e^{-z}} $$`"
   ]
  },
  {
   "cell_type": "code",
   "execution_count": 131,
   "metadata": {
    "executionInfo": {
     "elapsed": 4,
     "status": "ok",
     "timestamp": 1724766936167,
     "user": {
      "displayName": "Zeljko Stojkovic",
      "userId": "05844160719545318254"
     },
     "user_tz": -120
    },
    "id": "mSV06A0tuHDG"
   },
   "outputs": [],
   "source": [
    "def sigmoid(z):\n",
    "    return 1.0 / (1.0 + exp(-z))"
   ]
  },
  {
   "cell_type": "markdown",
   "metadata": {
    "id": "ULgQnDA2x1DZ"
   },
   "source": [
    "### Weighted Sum Calculation\n",
    "\n",
    "It iterates throught all weights expect the last one (bias), for each weight it multiplies it by the corresponding input and adds the result to z.\n",
    "\n",
    "$$ f(\\mathbf{w}, \\mathbf{x}) = b + \\sum_{i=1}^{n} w_i x_i $$"
   ]
  },
  {
   "cell_type": "code",
   "execution_count": 132,
   "metadata": {
    "executionInfo": {
     "elapsed": 4,
     "status": "ok",
     "timestamp": 1724766936167,
     "user": {
      "displayName": "Zeljko Stojkovic",
      "userId": "05844160719545318254"
     },
     "user_tz": -120
    },
    "id": "K1AkrZC_wTbX"
   },
   "outputs": [],
   "source": [
    "def weighted_sum(weights, inputs):\n",
    "    z = weights[-1]\n",
    "    for i in range(len(weights)-1):\n",
    "        z += weights[i] * inputs[i]\n",
    "    return z"
   ]
  },
  {
   "cell_type": "markdown",
   "metadata": {
    "id": "YcK8F36Z-CJ7"
   },
   "source": [
    " ### Forward Propagate\n",
    " Performs the forward pass through the neural network\n",
    " Parameters: network (list of layers), sample (input data)"
   ]
  },
  {
   "cell_type": "code",
   "execution_count": 133,
   "metadata": {
    "executionInfo": {
     "elapsed": 4,
     "status": "ok",
     "timestamp": 1724766936167,
     "user": {
      "displayName": "Zeljko Stojkovic",
      "userId": "05844160719545318254"
     },
     "user_tz": -120
    },
    "id": "T_82S6JstrV-"
   },
   "outputs": [],
   "source": [
    "def forward_propagate(network, sample):\n",
    "    inputs = sample\n",
    "    for layer in network:\n",
    "        new_inputs = []\n",
    "        for neuron in layer:\n",
    "            z = weighted_sum(neuron['weights'], inputs)\n",
    "            neuron['output'] = sigmoid(z)\n",
    "            new_inputs.append(neuron['output'])\n",
    "        inputs = new_inputs\n",
    "    return inputs"
   ]
  },
  {
   "cell_type": "markdown",
   "metadata": {
    "id": "zgNFN6NN2Qa6"
   },
   "source": [
    "### Sigmoid derivate\n",
    "When we're backpropagating the errors in a network throught a layer with a sigmoid activation fucntion, f(x) has already been computed, during the forward pass. If we cache that matrix we can calculate the derivate now with just a few simple matrix operation.\n",
    "\n",
    "$$ \\ f(z) = {1 - f(z)} $$\n"
   ]
  },
  {
   "cell_type": "markdown",
   "metadata": {
    "id": "ND6fg5uy37zJ"
   },
   "source": [
    "ref: https://beckernick.github.io/sigmoid-derivative-neural-network/"
   ]
  },
  {
   "cell_type": "code",
   "execution_count": 134,
   "metadata": {
    "executionInfo": {
     "elapsed": 4,
     "status": "ok",
     "timestamp": 1724766936167,
     "user": {
      "displayName": "Zeljko Stojkovic",
      "userId": "05844160719545318254"
     },
     "user_tz": -120
    },
    "id": "hzGpamQY2dPR"
   },
   "outputs": [],
   "source": [
    "def sigmoid_derivative(output):\n",
    "    return output * (1.0 - output)"
   ]
  },
  {
   "cell_type": "markdown",
   "metadata": {
    "id": "AFGp-Xhg-MiX"
   },
   "source": [
    "### Backward Propagate\n",
    "Performs the backward pass throught the nerual network, and calculates the error for each neuron.\n"
   ]
  },
  {
   "cell_type": "code",
   "execution_count": 135,
   "metadata": {
    "executionInfo": {
     "elapsed": 4,
     "status": "ok",
     "timestamp": 1724766936167,
     "user": {
      "displayName": "Zeljko Stojkovic",
      "userId": "05844160719545318254"
     },
     "user_tz": -120
    },
    "id": "jYo4ksduuOMW"
   },
   "outputs": [],
   "source": [
    "def backward_propagate(network, y):\n",
    "                              # [1,0]\n",
    "    for i in reversed(range(len(network))):\n",
    "        layer = network[i]\n",
    "        errors = list()\n",
    "\n",
    "        # hidden layer\n",
    "        # 3)\n",
    "        if i != len(network) - 1:\n",
    "            for j in range(len(layer)):\n",
    "                error = 0.0\n",
    "                for neuron in network[i + 1]:\n",
    "                    error = error+ neuron['weights'][j] * neuron['delta']\n",
    "                    errors.append(error)\n",
    "\n",
    "        # output layer\n",
    "        # 1)\n",
    "        else:\n",
    "            for j in range(len(layer)):\n",
    "                neuron = layer[j]\n",
    "                error = y[j] - neuron['output']\n",
    "                errors.append(error)\n",
    "        # 2), 4) ...\n",
    "        for j in range(len(layer)):\n",
    "            neuron = layer[j]\n",
    "            neuron['delta'] = errors[j]* sigmoid_derivative(neuron['output'])"
   ]
  },
  {
   "cell_type": "markdown",
   "metadata": {
    "id": "JFf-Txfv-TI_"
   },
   "source": [
    "### Update Weights\n",
    "\n",
    "Performs the weights update of the neurons in the network based on the calculated delta values during backward propagation\n"
   ]
  },
  {
   "cell_type": "code",
   "execution_count": 136,
   "metadata": {
    "executionInfo": {
     "elapsed": 4,
     "status": "ok",
     "timestamp": 1724766936167,
     "user": {
      "displayName": "Zeljko Stojkovic",
      "userId": "05844160719545318254"
     },
     "user_tz": -120
    },
    "id": "B1ejcLNKuP3j"
   },
   "outputs": [],
   "source": [
    "def update_weights(network, sample, L):\n",
    "    for i in range(len(network)):\n",
    "        inputs = sample[:-1]\n",
    "        if i != 0:\n",
    "            inputs = [neuron['output'] for neuron in network[i-1]]\n",
    "        for neuron in network[i]:\n",
    "            for j in range(len(inputs)):\n",
    "                neuron['weights'][j] = neuron['weights'][j] + L * neuron['delta'] * inputs[j]\n",
    "            neuron['weights'][-1] = neuron['weights'][-1] + L * neuron['delta']"
   ]
  },
  {
   "cell_type": "markdown",
   "metadata": {
    "id": "--3Fi4ddIQip"
   },
   "source": [
    "###  Train Network"
   ]
  },
  {
   "cell_type": "code",
   "execution_count": 137,
   "metadata": {
    "executionInfo": {
     "elapsed": 4,
     "status": "ok",
     "timestamp": 1724766936167,
     "user": {
      "displayName": "Zeljko Stojkovic",
      "userId": "05844160719545318254"
     },
     "user_tz": -120
    },
    "id": "zzQWaKxrtFTB"
   },
   "outputs": [],
   "source": [
    "def train_network(network, training_data, L, epochs, n_output):\n",
    "    costs = []\n",
    "\n",
    "    for epoch in range(epochs):\n",
    "        total_error = 0\n",
    "\n",
    "        for sample in training_data:\n",
    "            inputs = sample[:-1]\n",
    "\n",
    "            expected_outputs = [0 for _ in range(n_output)]\n",
    "            expected_outputs[int(sample[-1])] = 1\n",
    "\n",
    "            outputs = forward_propagate(network, inputs)\n",
    "\n",
    "            error = sum([(expected_outputs[i] - outputs[i]) ** 2 for i in range(len(outputs))]) / 2\n",
    "            total_error += error\n",
    "\n",
    "            backward_propagate(network, expected_outputs)\n",
    "            update_weights(network, inputs, L)\n",
    "\n",
    "        average_error = total_error / len(training_data)\n",
    "        costs.append(average_error)\n",
    "\n",
    "        print(f'Epoch {epoch + 1}/{epochs}, Learning Rate: {L}, Cost: {average_error:.2f}')\n",
    "\n",
    "    plt.plot(range(epochs), costs)\n",
    "    plt.xlabel('Epoch')\n",
    "    plt.ylabel('Cost')\n",
    "    plt.title('Cost over Training Epochs')\n",
    "    plt.show()"
   ]
  },
  {
   "cell_type": "code",
   "execution_count": 139,
   "metadata": {
    "executionInfo": {
     "elapsed": 4,
     "status": "ok",
     "timestamp": 1724766936167,
     "user": {
      "displayName": "Zeljko Stojkovic",
      "userId": "05844160719545318254"
     },
     "user_tz": -120
    },
    "id": "tQ54LaA3CIJR"
   },
   "outputs": [],
   "source": [
    "wine = load_wine()\n",
    "X, y = wine.data, wine.target\n",
    "\n",
    "X = (X - X.min()) / (X.max() - X.min())"
   ]
  },
  {
   "cell_type": "code",
   "execution_count": 140,
   "metadata": {
    "executionInfo": {
     "elapsed": 4,
     "status": "ok",
     "timestamp": 1724766936167,
     "user": {
      "displayName": "Zeljko Stojkovic",
      "userId": "05844160719545318254"
     },
     "user_tz": -120
    },
    "id": "v6bbn4A_FOwS"
   },
   "outputs": [],
   "source": [
    "Xtrain, Xtest, yTrain, yTest = train_test_split(X, y, test_size=0.15, random_state=1, shuffle=True)\n",
    "training_data = np.c_[Xtrain, yTrain]\n",
    "test_data = np.c_[Xtest, yTest]\n",
    "\n",
    "seed(1)\n",
    "training_data = np.c_[Xtrain,yTrain]\n",
    "test_data = np.c_[Xtest,yTest]"
   ]
  },
  {
   "cell_type": "code",
   "execution_count": 144,
   "metadata": {
    "colab": {
     "base_uri": "https://localhost:8080/",
     "height": 1000
    },
    "executionInfo": {
     "elapsed": 9391,
     "status": "ok",
     "timestamp": 1724767196818,
     "user": {
      "displayName": "Zeljko Stojkovic",
      "userId": "05844160719545318254"
     },
     "user_tz": -120
    },
    "id": "5W8o6Lyh82Zm",
    "outputId": "9dded468-6126-4044-98be-672a03e930c2"
   },
   "outputs": [
    {
     "name": "stdout",
     "output_type": "stream",
     "text": [
      "Epoch 1/200, Learning Rate: 0.5, Cost: 0.97\n",
      "Epoch 2/200, Learning Rate: 0.5, Cost: 0.75\n",
      "Epoch 3/200, Learning Rate: 0.5, Cost: 0.75\n",
      "Epoch 4/200, Learning Rate: 0.5, Cost: 0.75\n",
      "Epoch 5/200, Learning Rate: 0.5, Cost: 0.73\n",
      "Epoch 6/200, Learning Rate: 0.5, Cost: 0.59\n",
      "Epoch 7/200, Learning Rate: 0.5, Cost: 0.59\n",
      "Epoch 8/200, Learning Rate: 0.5, Cost: 0.59\n",
      "Epoch 9/200, Learning Rate: 0.5, Cost: 0.59\n",
      "Epoch 10/200, Learning Rate: 0.5, Cost: 0.47\n",
      "Epoch 11/200, Learning Rate: 0.5, Cost: 0.37\n",
      "Epoch 12/200, Learning Rate: 0.5, Cost: 0.36\n",
      "Epoch 13/200, Learning Rate: 0.5, Cost: 0.36\n",
      "Epoch 14/200, Learning Rate: 0.5, Cost: 0.35\n",
      "Epoch 15/200, Learning Rate: 0.5, Cost: 0.35\n",
      "Epoch 16/200, Learning Rate: 0.5, Cost: 0.34\n",
      "Epoch 17/200, Learning Rate: 0.5, Cost: 0.34\n",
      "Epoch 18/200, Learning Rate: 0.5, Cost: 0.33\n",
      "Epoch 19/200, Learning Rate: 0.5, Cost: 0.33\n",
      "Epoch 20/200, Learning Rate: 0.5, Cost: 0.32\n",
      "Epoch 21/200, Learning Rate: 0.5, Cost: 0.32\n",
      "Epoch 22/200, Learning Rate: 0.5, Cost: 0.31\n",
      "Epoch 23/200, Learning Rate: 0.5, Cost: 0.31\n",
      "Epoch 24/200, Learning Rate: 0.5, Cost: 0.30\n",
      "Epoch 25/200, Learning Rate: 0.5, Cost: 0.30\n",
      "Epoch 26/200, Learning Rate: 0.5, Cost: 0.30\n",
      "Epoch 27/200, Learning Rate: 0.5, Cost: 0.29\n",
      "Epoch 28/200, Learning Rate: 0.5, Cost: 0.29\n",
      "Epoch 29/200, Learning Rate: 0.5, Cost: 0.29\n",
      "Epoch 30/200, Learning Rate: 0.5, Cost: 0.29\n",
      "Epoch 31/200, Learning Rate: 0.5, Cost: 0.28\n",
      "Epoch 32/200, Learning Rate: 0.5, Cost: 0.28\n",
      "Epoch 33/200, Learning Rate: 0.5, Cost: 0.28\n",
      "Epoch 34/200, Learning Rate: 0.5, Cost: 0.28\n",
      "Epoch 35/200, Learning Rate: 0.5, Cost: 0.28\n",
      "Epoch 36/200, Learning Rate: 0.5, Cost: 0.27\n",
      "Epoch 37/200, Learning Rate: 0.5, Cost: 0.27\n",
      "Epoch 38/200, Learning Rate: 0.5, Cost: 0.27\n",
      "Epoch 39/200, Learning Rate: 0.5, Cost: 0.27\n",
      "Epoch 40/200, Learning Rate: 0.5, Cost: 0.27\n",
      "Epoch 41/200, Learning Rate: 0.5, Cost: 0.27\n",
      "Epoch 42/200, Learning Rate: 0.5, Cost: 0.27\n",
      "Epoch 43/200, Learning Rate: 0.5, Cost: 0.26\n",
      "Epoch 44/200, Learning Rate: 0.5, Cost: 0.26\n",
      "Epoch 45/200, Learning Rate: 0.5, Cost: 0.26\n",
      "Epoch 46/200, Learning Rate: 0.5, Cost: 0.26\n",
      "Epoch 47/200, Learning Rate: 0.5, Cost: 0.26\n",
      "Epoch 48/200, Learning Rate: 0.5, Cost: 0.26\n",
      "Epoch 49/200, Learning Rate: 0.5, Cost: 0.26\n",
      "Epoch 50/200, Learning Rate: 0.5, Cost: 0.26\n",
      "Epoch 51/200, Learning Rate: 0.5, Cost: 0.26\n",
      "Epoch 52/200, Learning Rate: 0.5, Cost: 0.26\n",
      "Epoch 53/200, Learning Rate: 0.5, Cost: 0.26\n",
      "Epoch 54/200, Learning Rate: 0.5, Cost: 0.25\n",
      "Epoch 55/200, Learning Rate: 0.5, Cost: 0.25\n",
      "Epoch 56/200, Learning Rate: 0.5, Cost: 0.25\n",
      "Epoch 57/200, Learning Rate: 0.5, Cost: 0.25\n",
      "Epoch 58/200, Learning Rate: 0.5, Cost: 0.25\n",
      "Epoch 59/200, Learning Rate: 0.5, Cost: 0.25\n",
      "Epoch 60/200, Learning Rate: 0.5, Cost: 0.25\n",
      "Epoch 61/200, Learning Rate: 0.5, Cost: 0.25\n",
      "Epoch 62/200, Learning Rate: 0.5, Cost: 0.25\n",
      "Epoch 63/200, Learning Rate: 0.5, Cost: 0.25\n",
      "Epoch 64/200, Learning Rate: 0.5, Cost: 0.25\n",
      "Epoch 65/200, Learning Rate: 0.5, Cost: 0.25\n",
      "Epoch 66/200, Learning Rate: 0.5, Cost: 0.25\n",
      "Epoch 67/200, Learning Rate: 0.5, Cost: 0.25\n",
      "Epoch 68/200, Learning Rate: 0.5, Cost: 0.25\n",
      "Epoch 69/200, Learning Rate: 0.5, Cost: 0.25\n",
      "Epoch 70/200, Learning Rate: 0.5, Cost: 0.25\n",
      "Epoch 71/200, Learning Rate: 0.5, Cost: 0.24\n",
      "Epoch 72/200, Learning Rate: 0.5, Cost: 0.24\n",
      "Epoch 73/200, Learning Rate: 0.5, Cost: 0.24\n",
      "Epoch 74/200, Learning Rate: 0.5, Cost: 0.24\n",
      "Epoch 75/200, Learning Rate: 0.5, Cost: 0.24\n",
      "Epoch 76/200, Learning Rate: 0.5, Cost: 0.24\n",
      "Epoch 77/200, Learning Rate: 0.5, Cost: 0.24\n",
      "Epoch 78/200, Learning Rate: 0.5, Cost: 0.24\n",
      "Epoch 79/200, Learning Rate: 0.5, Cost: 0.24\n",
      "Epoch 80/200, Learning Rate: 0.5, Cost: 0.24\n",
      "Epoch 81/200, Learning Rate: 0.5, Cost: 0.24\n",
      "Epoch 82/200, Learning Rate: 0.5, Cost: 0.24\n",
      "Epoch 83/200, Learning Rate: 0.5, Cost: 0.24\n",
      "Epoch 84/200, Learning Rate: 0.5, Cost: 0.24\n",
      "Epoch 85/200, Learning Rate: 0.5, Cost: 0.24\n",
      "Epoch 86/200, Learning Rate: 0.5, Cost: 0.24\n",
      "Epoch 87/200, Learning Rate: 0.5, Cost: 0.24\n",
      "Epoch 88/200, Learning Rate: 0.5, Cost: 0.24\n",
      "Epoch 89/200, Learning Rate: 0.5, Cost: 0.24\n",
      "Epoch 90/200, Learning Rate: 0.5, Cost: 0.24\n",
      "Epoch 91/200, Learning Rate: 0.5, Cost: 0.24\n",
      "Epoch 92/200, Learning Rate: 0.5, Cost: 0.24\n",
      "Epoch 93/200, Learning Rate: 0.5, Cost: 0.24\n",
      "Epoch 94/200, Learning Rate: 0.5, Cost: 0.24\n",
      "Epoch 95/200, Learning Rate: 0.5, Cost: 0.24\n",
      "Epoch 96/200, Learning Rate: 0.5, Cost: 0.24\n",
      "Epoch 97/200, Learning Rate: 0.5, Cost: 0.23\n",
      "Epoch 98/200, Learning Rate: 0.5, Cost: 0.23\n",
      "Epoch 99/200, Learning Rate: 0.5, Cost: 0.23\n",
      "Epoch 100/200, Learning Rate: 0.5, Cost: 0.23\n",
      "Epoch 101/200, Learning Rate: 0.5, Cost: 0.23\n",
      "Epoch 102/200, Learning Rate: 0.5, Cost: 0.23\n",
      "Epoch 103/200, Learning Rate: 0.5, Cost: 0.23\n",
      "Epoch 104/200, Learning Rate: 0.5, Cost: 0.23\n",
      "Epoch 105/200, Learning Rate: 0.5, Cost: 0.23\n",
      "Epoch 106/200, Learning Rate: 0.5, Cost: 0.23\n",
      "Epoch 107/200, Learning Rate: 0.5, Cost: 0.23\n",
      "Epoch 108/200, Learning Rate: 0.5, Cost: 0.23\n",
      "Epoch 109/200, Learning Rate: 0.5, Cost: 0.23\n",
      "Epoch 110/200, Learning Rate: 0.5, Cost: 0.23\n",
      "Epoch 111/200, Learning Rate: 0.5, Cost: 0.23\n",
      "Epoch 112/200, Learning Rate: 0.5, Cost: 0.23\n",
      "Epoch 113/200, Learning Rate: 0.5, Cost: 0.23\n",
      "Epoch 114/200, Learning Rate: 0.5, Cost: 0.23\n",
      "Epoch 115/200, Learning Rate: 0.5, Cost: 0.23\n",
      "Epoch 116/200, Learning Rate: 0.5, Cost: 0.23\n",
      "Epoch 117/200, Learning Rate: 0.5, Cost: 0.23\n",
      "Epoch 118/200, Learning Rate: 0.5, Cost: 0.23\n",
      "Epoch 119/200, Learning Rate: 0.5, Cost: 0.23\n",
      "Epoch 120/200, Learning Rate: 0.5, Cost: 0.23\n",
      "Epoch 121/200, Learning Rate: 0.5, Cost: 0.23\n",
      "Epoch 122/200, Learning Rate: 0.5, Cost: 0.23\n",
      "Epoch 123/200, Learning Rate: 0.5, Cost: 0.23\n",
      "Epoch 124/200, Learning Rate: 0.5, Cost: 0.23\n",
      "Epoch 125/200, Learning Rate: 0.5, Cost: 0.23\n",
      "Epoch 126/200, Learning Rate: 0.5, Cost: 0.23\n",
      "Epoch 127/200, Learning Rate: 0.5, Cost: 0.23\n",
      "Epoch 128/200, Learning Rate: 0.5, Cost: 0.23\n",
      "Epoch 129/200, Learning Rate: 0.5, Cost: 0.23\n",
      "Epoch 130/200, Learning Rate: 0.5, Cost: 0.23\n",
      "Epoch 131/200, Learning Rate: 0.5, Cost: 0.23\n",
      "Epoch 132/200, Learning Rate: 0.5, Cost: 0.23\n",
      "Epoch 133/200, Learning Rate: 0.5, Cost: 0.23\n",
      "Epoch 134/200, Learning Rate: 0.5, Cost: 0.23\n",
      "Epoch 135/200, Learning Rate: 0.5, Cost: 0.23\n",
      "Epoch 136/200, Learning Rate: 0.5, Cost: 0.23\n",
      "Epoch 137/200, Learning Rate: 0.5, Cost: 0.23\n",
      "Epoch 138/200, Learning Rate: 0.5, Cost: 0.23\n",
      "Epoch 139/200, Learning Rate: 0.5, Cost: 0.23\n",
      "Epoch 140/200, Learning Rate: 0.5, Cost: 0.23\n",
      "Epoch 141/200, Learning Rate: 0.5, Cost: 0.23\n",
      "Epoch 142/200, Learning Rate: 0.5, Cost: 0.23\n",
      "Epoch 143/200, Learning Rate: 0.5, Cost: 0.23\n",
      "Epoch 144/200, Learning Rate: 0.5, Cost: 0.23\n",
      "Epoch 145/200, Learning Rate: 0.5, Cost: 0.23\n",
      "Epoch 146/200, Learning Rate: 0.5, Cost: 0.23\n",
      "Epoch 147/200, Learning Rate: 0.5, Cost: 0.23\n",
      "Epoch 148/200, Learning Rate: 0.5, Cost: 0.23\n",
      "Epoch 149/200, Learning Rate: 0.5, Cost: 0.22\n",
      "Epoch 150/200, Learning Rate: 0.5, Cost: 0.22\n",
      "Epoch 151/200, Learning Rate: 0.5, Cost: 0.22\n",
      "Epoch 152/200, Learning Rate: 0.5, Cost: 0.22\n",
      "Epoch 153/200, Learning Rate: 0.5, Cost: 0.22\n",
      "Epoch 154/200, Learning Rate: 0.5, Cost: 0.22\n",
      "Epoch 155/200, Learning Rate: 0.5, Cost: 0.22\n",
      "Epoch 156/200, Learning Rate: 0.5, Cost: 0.22\n",
      "Epoch 157/200, Learning Rate: 0.5, Cost: 0.22\n",
      "Epoch 158/200, Learning Rate: 0.5, Cost: 0.22\n",
      "Epoch 159/200, Learning Rate: 0.5, Cost: 0.22\n",
      "Epoch 160/200, Learning Rate: 0.5, Cost: 0.22\n",
      "Epoch 161/200, Learning Rate: 0.5, Cost: 0.22\n",
      "Epoch 162/200, Learning Rate: 0.5, Cost: 0.22\n",
      "Epoch 163/200, Learning Rate: 0.5, Cost: 0.22\n",
      "Epoch 164/200, Learning Rate: 0.5, Cost: 0.22\n",
      "Epoch 165/200, Learning Rate: 0.5, Cost: 0.22\n",
      "Epoch 166/200, Learning Rate: 0.5, Cost: 0.22\n",
      "Epoch 167/200, Learning Rate: 0.5, Cost: 0.22\n",
      "Epoch 168/200, Learning Rate: 0.5, Cost: 0.22\n",
      "Epoch 169/200, Learning Rate: 0.5, Cost: 0.22\n",
      "Epoch 170/200, Learning Rate: 0.5, Cost: 0.22\n",
      "Epoch 171/200, Learning Rate: 0.5, Cost: 0.22\n",
      "Epoch 172/200, Learning Rate: 0.5, Cost: 0.22\n",
      "Epoch 173/200, Learning Rate: 0.5, Cost: 0.22\n",
      "Epoch 174/200, Learning Rate: 0.5, Cost: 0.22\n",
      "Epoch 175/200, Learning Rate: 0.5, Cost: 0.22\n",
      "Epoch 176/200, Learning Rate: 0.5, Cost: 0.22\n",
      "Epoch 177/200, Learning Rate: 0.5, Cost: 0.22\n",
      "Epoch 178/200, Learning Rate: 0.5, Cost: 0.22\n",
      "Epoch 179/200, Learning Rate: 0.5, Cost: 0.22\n",
      "Epoch 180/200, Learning Rate: 0.5, Cost: 0.22\n",
      "Epoch 181/200, Learning Rate: 0.5, Cost: 0.22\n",
      "Epoch 182/200, Learning Rate: 0.5, Cost: 0.22\n",
      "Epoch 183/200, Learning Rate: 0.5, Cost: 0.22\n",
      "Epoch 184/200, Learning Rate: 0.5, Cost: 0.22\n",
      "Epoch 185/200, Learning Rate: 0.5, Cost: 0.22\n",
      "Epoch 186/200, Learning Rate: 0.5, Cost: 0.22\n",
      "Epoch 187/200, Learning Rate: 0.5, Cost: 0.22\n",
      "Epoch 188/200, Learning Rate: 0.5, Cost: 0.22\n",
      "Epoch 189/200, Learning Rate: 0.5, Cost: 0.22\n",
      "Epoch 190/200, Learning Rate: 0.5, Cost: 0.22\n",
      "Epoch 191/200, Learning Rate: 0.5, Cost: 0.22\n",
      "Epoch 192/200, Learning Rate: 0.5, Cost: 0.22\n",
      "Epoch 193/200, Learning Rate: 0.5, Cost: 0.22\n",
      "Epoch 194/200, Learning Rate: 0.5, Cost: 0.22\n",
      "Epoch 195/200, Learning Rate: 0.5, Cost: 0.22\n",
      "Epoch 196/200, Learning Rate: 0.5, Cost: 0.22\n",
      "Epoch 197/200, Learning Rate: 0.5, Cost: 0.22\n",
      "Epoch 198/200, Learning Rate: 0.5, Cost: 0.22\n",
      "Epoch 199/200, Learning Rate: 0.5, Cost: 0.22\n",
      "Epoch 200/200, Learning Rate: 0.5, Cost: 0.22\n"
     ]
    },
    {
     "data": {
      "image/png": "[encoded data removed]",
      "text/plain": [
       "<Figure size 640x480 with 1 Axes>"
      ]
     },
     "metadata": {},
     "output_type": "display_data"
    },
    {
     "name": "stdout",
     "output_type": "stream",
     "text": [
      "[{'weights': [0.6062507876072671, 0.06246256598469262, 0.4221223231859763, -0.39320881324151513, 0.971332011396787, 1.0013524017797106, 0.7076351139669155, 0.1265739429107998, 0.6626677717649537, 0.6581913335575369, 0.8307128767516757, 0.8668856949583166, 0.7310380068460375, -0.8039301320220235], 'output': 0.41386677711693054, 'delta': 0.17703060789327857}, {'weights': [0.44891457535438023, 0.4480483901612181, 0.39829968438885494, -0.144464278590786, 1.9838455126393049, 0.1866021233401627, 0.1734156758706408, 0.2473119283334329, 0.20076502613332792, 1.4577035658969464, 0.5000903956919723, 0.19852924073939293, 0.4292171054788668, -2.3835600134352144], 'output': 0.11746195151554145, 'delta': 0.07718286416731322}, {'weights': [0.6619651602650317, 0.6005088423394148, 0.4038679915511381, -0.025746155242201193, 1.0377862200492078, 0.09704555688239108, 0.81877963947674, 0.053682942049717054, 0.7521621683146293, 0.5705378658961822, 0.672317635451857, 0.6013325475277829, 0.1291756754568837, -3.663962026788865], 'output': 0.028803331887161752, 'delta': 0.01979872872346065}, {'weights': [0.0941574946930716, 0.22154529157509958, 0.38418880899414626, 0.13643468465259373, 0.6931362789508658, 1.016235525508833, 0.4144418682353542, 0.83415529455038, 0.23997181236378604, 0.6704864933779574, 0.3556081151411794, 0.5752360602699349, 0.08858336146387946, -0.8637637554516951], 'output': 0.31581932323706846, 'delta': 0.031424718040450564}, {'weights': [0.22891639101245861, 0.4415226802255821, 0.29278973364749034, 0.6602821323570761, 0.6154364521002121, 0.6462301493333278, 0.8152154133713438, 0.250290566267725, 0.07403032517081157, 0.7810843862968855, 0.32440500865167504, 0.8547396925179915, 0.9566394159445416, -0.8434535185995724], 'output': 0.45476403993016884, 'delta': 0.03596863421331989}, {'weights': [0.09056391523186663, 0.8340013413309405, 0.6306567514628103, 0.14161987311900362, 0.05594458949888868, 0.5224514075226903, 0.153671455748457, 0.9030997035322182, 0.7154473392571667, 0.7687080561579742, 0.3886793652264502, 0.9450197177222927, 0.13395476947645024, -2.3367392392779416], 'output': 0.09559168439008404, 'delta': 0.021351810831017948}, {'weights': [0.25133739779991565, 0.00857901776317924, 0.12060028909569853, 0.23966937827941479, 0.7585549039444289, 0.3713458506082022, 0.46872724092619417, 0.6146727019420518, 0.2641137376312402, 0.6471270733291019, 0.6698616870400129, 0.912493091479874, 0.5028668212377829, 1.4659632473919024], 'output': 0.8643704037248676, 'delta': -0.003622065089981529}, {'weights': [0.9570040929798788, 0.7471283323146668, 0.41946926373770077, 0.30955377073042495, 0.04684247850472822, 0.8372187149804521, 0.14160643719552285, 0.5593526534237597, 0.45904771721089244, -0.0323447014922364, 0.2216170591824051, 0.8365333987226689, 0.5386596159811745, 3.1987373375475805], 'output': 0.9726449551190749, 'delta': -0.0008720412411412097}, {'weights': [0.8856613350745726, 0.09164308343801783, 0.675661648265048, 0.14029638548556178, 0.27490512023165137, 0.43043550886084964, 0.9340747557301756, 0.5976388126308615, 0.18437149512238665, 0.47708111650673213, 0.5222642998011139, 0.18552942621593324, 0.35973135127600175, 2.663882723194831], 'output': 0.9494160842642424, 'delta': -0.0050619274764520895}, {'weights': [1.0024215611002787, 0.7865873487584094, 0.06846150306826215, 0.9846556856759935, 0.6227804917004398, 0.8310719741788053, 0.1668561801115037, 0.1492911032995361, 0.905601005980955, 0.3009343588369747, 0.043069649053921015, 0.49690693851063217, 0.9905684580353415, 4.774917335954577], 'output': 0.9958727607884748, 'delta': -0.0014806172052948343}, {'weights': [0.39233245335172356, 0.9890957361520678, 0.7966774576497302, 0.9504046491625222, 0.6398429170078316, 0.3888113646067146, 0.8935951530848404, 0.4725596113435117, 0.9330686280374537, 0.5101298400414499, 0.9129784875103023, 0.474487261418841, 0.42682078707669624, 4.585894047599577], 'output': 0.992792273951743, 'delta': -0.002603899389247205}, {'weights': [0.16718596086164159, 0.10532393627093091, 0.5669799400368131, 1.186556372875417, -0.6039102167131968, 0.814524167699518, 0.7026139115997928, 0.7831032987774477, 0.3925245902063937, 0.7681484540417421, 0.7960411578010214, 0.5312214297045535, 0.11350996819836934, 2.8488671841166733], 'output': 0.9488066434074406, 'delta': -0.021646219712286953}, {'weights': [0.26781771047289954, 0.7621516717318992, 0.3731130458296279, -0.6761628432636336, 1.4815632195708468, 0.8858435269261296, 1.0530078371747633, 0.4515287620608358, 0.7616353246214562, 0.5785048983692472, 0.5146957033097851, 0.8333855224484323, 0.8103469203716892, -1.199505832688339], 'output': 0.32786856553171817, 'delta': 0.2788519484804231}, {'weights': [0.21275161638239196, 0.3655595195590748, 0.22182542177594175, 0.7357003132604246, 0.3658266282036338, 0.11563899515513514, 0.32921728805925277, 0.5063806603057673, 0.8212913726734478, 1.1489512453706454, 0.8414223891856021, 0.6069524275733301, 0.03760190092730609, -4.329830941608911], 'output': 0.013695402215968745, 'delta': 0.017346199310244736}, {'weights': [0.810343120420442, 0.8856498412791112, 0.2923660895233515, 0.5548410736384207, 1.3930541212999028, 0.632440640321733, 0.7203594293830587, 0.06591281337795514, 0.1939657160574919, 1.2006056823432545, 0.25989545148980236, 0.138187598922764, 0.282428939274216, -3.0964017574130747], 'output': 0.05461245960986902, 'delta': 0.08074249006169472}, {'weights': [0.24657859423429032, 0.2119776252233342, 0.27457149030953965, 0.48934829460829693, 0.628066502041027, 0.2940281392281255, 0.861445953934727, 0.9764685243935759, 0.8177312819586608, 0.07581227725777265, 0.3132938150090482, 0.9166458048319122, 0.8593843990279285, -1.1827551974611148], 'output': 0.36158242926110795, 'delta': -0.0015131930906090872}, {'weights': [0.3903601655878076, 0.3411561788273428, 0.7387337510300596, -0.004150686527505336, -0.052900627898799915, 0.7462116727790211, 0.8874641781043637, 0.0398409434986166, 0.5866578196465051, 0.590246454888261, 0.875154422259925, 0.4252235463048616, 0.9730496846376722, -3.754937469341729], 'output': 0.04276695260598449, 'delta': -0.00029578273262886574}, {'weights': [0.07079841533307132, 0.12183351801151959, 0.5795728246461149, 0.09700383857436654, -0.060987386111511416, 0.18748893466609481, 0.04432695659420737, 0.9623346291423792, 0.3295125596324678, 0.9340422492321804, 0.7214325883854126, 0.21073155000312827, 0.9325466799393285, -4.163126617264899], 'output': 0.028022753266135327, 'delta': -0.0016202846620985219}, {'weights': [1.0137148889393683, 0.007214451993553761, 0.25767285425328035, 0.36412528185588533, 0.08047005944610273, 0.8044989804014833, 0.1615807750530118, 0.811355073249395, 0.0550353548278556, 0.4782516930363249, 0.22025020550781615, 0.342733744475671, 0.4904844128034528, -1.107233764280971], 'output': 0.31225908964274696, 'delta': 0.049660565720803004}, {'weights': [0.4794977116539638, 0.7169121591960999, 0.20940795631432357, 0.03895796788935002, 1.057947782513648, 0.30582039880983736, 0.9429177130306478, 0.42464503668951803, 0.4729089072030055, 0.22702982477837813, 0.007746372900480988, 0.10181216142117804, 0.6256280957010675, -1.5548009644536571], 'output': 0.2504999777999379, 'delta': 0.04413543677385599}, {'weights': [0.9791227606841651, 0.4506668166178397, 0.7115141800669782, 0.2271221254124566, 0.15374033812393656, 0.4290145067729321, 0.7179543065169466, 0.8022033741402178, 0.9541527757667709, 0.9017919468001921, 0.5592901931004272, 0.5559747177023892, 0.5010951895648471, -2.6432816883999783], 'output': 0.09116856341398398, 'delta': 0.023526179786565366}, {'weights': [0.6324414511505495, 0.5815797722075281, 0.8495892686469597, 0.48957615700697593, 0.16011876928105565, 0.8086844541402862, 0.6359679038636008, 0.5265263722379767, 0.5500681529316415, 0.8117471959857744, 0.600459063496274, 0.22929628880742878, 0.3102432117958931, -2.9666476935822192], 'output': 0.061181633703336666, 'delta': -0.011030487588583037}, {'weights': [-0.0067151016872920065, 0.4459043130623894, 0.883123207305658, 0.19968493729254197, 0.0735371501271712, 0.6893555675923937, 0.9130568944689974, 0.6961040144691194, 0.6195608882329714, 0.3485042739540827, 0.43525698378295563, 0.631160882648095, 0.3563198884690598, -4.224150125761463], 'output': 0.018428795652397235, 'delta': -0.0035167281057848763}, {'weights': [-0.046246349833941006, 0.733831428175257, 0.7326167965039274, 0.23820018574832857, -0.3751366628066675, 0.33292811813388296, 0.5876021181098064, 0.7857886805912947, 0.8669267428065677, 0.16076795066373722, 0.08108813516122473, 0.11597513663240482, 0.9890483008399374, -5.306944343254322], 'output': 0.009277195726304187, 'delta': -0.001787098003438297}, {'weights': [0.10554220021878497, 0.6875606146725772, 0.9555649687464425, 0.5811386759084228, 0.06317178467102767, 0.9578126210757747, 0.6949323706379716, 0.18277648978162397, 0.763106060604172, 0.49756654744597884, 0.5722536220224953, 0.36017214094128885, 0.29375152571511043, -2.375274502857871], 'output': 0.10328033340465437, 'delta': -0.00627142201649325}]\n",
      "[{'weights': [7.116977572993485, 1.420092307897658, -0.2989225771249632, -3.4862965962891628, 12.326729891702957, -0.05882041319428558, 2.2928577944815984, -1.8172028288062037, -0.6095852649048626, -4.745989379545586, -4.519587665528801, -1.5806315565342972, 7.152120805037453, -0.5500523977702366, 0.402368643991761, 14.13754682898504, 7.9617506650230645, 6.185654787314145, 4.7371684388552415, 6.676135855455082, 3.586277829545273, 1.3487173674480377, 1.27886124807482, 5.7318026287873085, 2.0870845295354647, -7.6674799823323365], 'output': 0.5782723901167461, 'delta': 0.10284815999009253}, {'weights': [-7.877399238867125, 0.19768547705421732, 1.0025469980207813, 1.9514383187099655, -10.020606238788865, 0.3573624346537652, -2.0447924751886375, 1.263751901267558, 0.3796385964787379, 3.2805624262458712, 3.5400402025496893, 1.509865201651438, -8.719388414633533, 1.6482358758474556, 0.542374366259333, -10.274576632959992, -6.684696186987001, -4.942076710613873, -4.348384181374018, -4.2328891216305, -2.307302336331437, -1.3805604315486635, -0.35924954487389055, -4.023641576209817, -1.399723442051796, 5.847235241985164], 'output': 0.04428599990721092, 'delta': -0.0018743938798617772}, {'weights': [0.2940892416601321, -0.8879449116913588, 0.6262801338404264, 0.6886450287604402, -2.444755343465089, 0.44634415745755435, -0.4724563630731581, -0.05601644037152106, -0.39187320043683405, 0.38417395251874886, 0.4581542399393458, 0.38191473017910055, 1.4899990652385362, 0.17459762292237418, -0.09466095746100073, -3.206765311279164, -1.2785095084197424, -1.4582487211125723, -0.3841106010192848, -1.9064916345911866, -0.8182784328162276, -0.3885608932895909, -0.6984019155457314, -1.3855303365800036, -0.0674940906863653, 1.3806172841534878], 'output': 0.46491694813739, 'delta': -0.1156570077107674}]\n"
     ]
    }
   ],
   "source": [
    "inputNum = len(training_data[0]) - 1\n",
    "outputNum = len(set([sample[-1] for sample in training_data]))\n",
    "hiddenNUm = len(yTrain) // (5 * (inputNum - outputNum))\n",
    "\n",
    "network = initialzie_network(inputNum, hiddenNumber, outputNum)\n",
    "L = 0.5\n",
    "epochs = 200\n",
    "\n",
    "# Train the network\n",
    "train_network(network, training_data, L, epochs, outputNum)\n",
    "\n",
    "# Print the network after training\n",
    "for layer in network:\n",
    "    print(layer)"
   ]
  }
 ],
 "metadata": {
  "colab": {
   "authorship_tag": "ABX9TyPa5Css3S+gRzOKu2zni36f",
   "provenance": []
  },
  "kernelspec": {
   "display_name": "Python 3 (ipykernel)",
   "language": "python",
   "name": "python3"
  },
  "language_info": {
   "codemirror_mode": {
    "name": "ipython",
    "version": 3
   },
   "file_extension": ".py",
   "mimetype": "text/x-python",
   "name": "python",
   "nbconvert_exporter": "python",
   "pygments_lexer": "ipython3",
   "version": "3.10.12"
  }
 },
 "nbformat": 4,
 "nbformat_minor": 4
}
